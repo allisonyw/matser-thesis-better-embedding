{
 "cells": [
  {
   "cell_type": "code",
   "execution_count": 1,
   "metadata": {},
   "outputs": [],
   "source": [
    "import requests\n",
    "import json\n",
    "import pandas as pd\n",
    "import string \n",
    "\n",
    "# TODO: replace with your own app_id and app_key\n",
    "app_id = 'd6928697'\n",
    "app_key = '2780c81e4516eef0bb5de0a4a52ef4d5'\n",
    "\n",
    "language = 'en-gb'\n",
    "fields = 'definitions'\n",
    "strictMatch = 'false'\n",
    "\n",
    "#print(\"code {}\\n\".format(r.status_code))\n",
    "#print(\"text \\n\" + r.text)\n",
    "#print(\"json \\n\" + json.dumps(r.json()))"
   ]
  },
  {
   "cell_type": "code",
   "execution_count": 70,
   "metadata": {},
   "outputs": [
    {
     "data": {
      "text/plain": [
       "\"approval, support, or liking for someone or something. an act of kindness beyond what is due or usual. a small inexpensive gift given to guests at a party.. feel or show approval or preference for. (often used in polite requests) give someone (something desired). resemble (a parent or other relative) in facial features. treat (an injured limb) gently, not putting one's full weight on it\""
      ]
     },
     "execution_count": 70,
     "metadata": {},
     "output_type": "execute_result"
    }
   ],
   "source": [
    "def get_dic_def(word_id):\n",
    "    \n",
    "    url = 'https://od-api.oxforddictionaries.com:443/api/v2/entries/' + language + '/' + word_id.lower() + '?fields=' + fields + '&strictMatch=' + strictMatch\n",
    "    \n",
    "    r = requests.get(url, headers = {'app_id': app_id, 'app_key': app_key})\n",
    "    \n",
    "    json_code = r.json()\n",
    "    result = json_code.get('results')\n",
    "    \n",
    "    dic_def = []\n",
    "\n",
    "    if result == None:\n",
    "        dic_def.append('Nan')\n",
    "        \n",
    "    else:\n",
    "        for item_a in result:\n",
    "            a = dict(item_a)\n",
    "            lexical_entries = a.get('lexicalEntries')\n",
    "            for item_b in lexical_entries:\n",
    "                b = dict(item_b)\n",
    "                entries = b.get('entries')\n",
    "                if entries == None:\n",
    "                    dic_def.append('Nan')\n",
    "                else:\n",
    "                    for item_c in entries:\n",
    "                        senses = item_c.get('senses')\n",
    "\n",
    "                        if senses == None:\n",
    "                            dic_def.append('Nan')\n",
    "                        else:\n",
    "                            for item_d in senses:\n",
    "                                definition = item_d.get('definitions')\n",
    "                                if definition == None:\n",
    "                                    pass\n",
    "                                else:\n",
    "                                    str1 = ''.join(definition)\n",
    "                                    dic_def.append(str1)\n",
    "\n",
    "    def_string = '. '.join(dic_def)\n",
    "\n",
    "    #returns a list of the dictionary definitions of the word_id\n",
    "    #definitions are strings and separated by ','.\n",
    "    return def_string\n",
    "get_dic_def('favour')\n"
   ]
  },
  {
   "cell_type": "code",
   "execution_count": 90,
   "metadata": {},
   "outputs": [
    {
     "name": "stdout",
     "output_type": "stream",
     "text": [
      "10\n",
      "100\n",
      "1000\n",
      "2000\n",
      "3000\n",
      "4000\n",
      "4500\n"
     ]
    }
   ],
   "source": [
    "data = pd.read_csv('/Users/allisonwei/api/5000_freq_word.csv', header = None)\n",
    "\n",
    "\n",
    "my_def_list = []\n",
    "c = 0\n",
    "\n",
    "for word in data[1][3:]:\n",
    "    c+=1\n",
    "    if c in [10,100, 1000, 2000, 3000, 4000, 4500]:\n",
    "        print(c)\n",
    "    word_def = get_dic_def(word)\n",
    "    my_def_list.append(word_def)\n",
    "\n",
    "df = pd.DataFrame(data={\"word\": data[1][3:], \"dictionary definition\": my_def_list})\n",
    "df.to_csv(r\"/Users/allisonwei/api/5k_def.csv\", sep=',',index=False)\n",
    " "
   ]
  },
  {
   "cell_type": "code",
   "execution_count": 18,
   "metadata": {},
   "outputs": [
    {
     "name": "stdout",
     "output_type": "stream",
     "text": [
      "<class 'str'>\n",
      "books\n",
      "\n",
      "<class 'str'>\n",
      "boys \n",
      "\n",
      "<class 'str'>\n",
      "girl \n",
      "\n",
      "<class 'str'>\n",
      "results\n",
      "\n",
      "<class 'str'>\n",
      "water\n",
      "['books\\n', 'boys \\n', 'girl \\n', 'results\\n', 'water']\n"
     ]
    }
   ],
   "source": [
    "import nltk\n",
    "def openfile(f):\n",
    "    with open(f,'r') as a:\n",
    "        a = a.readlines() # a will equal 'soc, 32\\nsoc, 1\\n...' in your example\n",
    "        b = [x.lower() for x in a]\n",
    "        \n",
    "    p = nltk.PorterStemmer()\n",
    "    c = []\n",
    "    #print(type(b))\n",
    "    for line in b:\n",
    "        print(type(line))\n",
    "        new_line = nltk.PorterStemmer().stem(line) \n",
    "        print(new_line)\n",
    "        c.append(new_line) \n",
    "    return c\n",
    "\n",
    "def returnfile(f, a):\n",
    "    with open(f,'w') as d:\n",
    "        for line in a:\n",
    "            d.write(line)\n",
    "\n",
    "f='/Users/allisonwei/Desktop/try.txt'\n",
    "print(openfile('/Users/allisonwei/Desktop/try.txt'))"
   ]
  },
  {
   "cell_type": "code",
   "execution_count": 6,
   "metadata": {},
   "outputs": [
    {
     "data": {
      "text/plain": [
       "'book'"
      ]
     },
     "execution_count": 6,
     "metadata": {},
     "output_type": "execute_result"
    }
   ],
   "source": [
    "import nltk\n",
    "nltk.PorterStemmer().stem('books')"
   ]
  },
  {
   "cell_type": "code",
   "execution_count": 42,
   "metadata": {},
   "outputs": [
    {
     "name": "stdout",
     "output_type": "stream",
     "text": [
      "gave-->give\n",
      "went-->go\n",
      "given-->give\n",
      "dating-->date\n",
      "cases-->case\n"
     ]
    }
   ],
   "source": [
    "from nltk.stem.wordnet import WordNetLemmatizer\n",
    "words = ['gave','went','given','dating', 'cases']\n",
    "# for word in words:\n",
    "#     print(word+\"-->\"+WordNetLemmatizer().lemmatize(word,'n'))\n",
    "for word in words:\n",
    "    print(word+\"-->\"+WordNetLemmatizer().lemmatize(word,'v'))"
   ]
  },
  {
   "cell_type": "code",
   "execution_count": null,
   "metadata": {},
   "outputs": [],
   "source": []
  }
 ],
 "metadata": {
  "kernelspec": {
   "display_name": "Python 3",
   "language": "python",
   "name": "python3"
  },
  "language_info": {
   "codemirror_mode": {
    "name": "ipython",
    "version": 3
   },
   "file_extension": ".py",
   "mimetype": "text/x-python",
   "name": "python",
   "nbconvert_exporter": "python",
   "pygments_lexer": "ipython3",
   "version": "3.7.3"
  }
 },
 "nbformat": 4,
 "nbformat_minor": 2
}
