{
 "cells": [
  {
   "cell_type": "code",
   "execution_count": 0,
   "metadata": {
    "colab": {},
    "colab_type": "code",
    "id": "OfKqQ3QKv-y0"
   },
   "outputs": [],
   "source": [
    "import logging\n",
    "from nltk import word_tokenize\n",
    "import pandas as pd\n",
    "import numpy as np\n",
    "import gc\n",
    "import os\n",
    "import torch\n",
    "from torch import nn\n",
    "from torch.autograd import Variable\n",
    "import torch.nn.functional as F\n",
    "from sklearn.model_selection import train_test_split\n",
    "#from torch.nn.utils.rnn import pad_sequence\n",
    "from sklearn.metrics import f1_score\n",
    "from torch import optim\n",
    "import torchtext\n",
    "import random"
   ]
  },
  {
   "cell_type": "code",
   "execution_count": 16,
   "metadata": {
    "colab": {
     "base_uri": "https://localhost:8080/",
     "height": 92
    },
    "colab_type": "code",
    "executionInfo": {
     "elapsed": 1644,
     "status": "ok",
     "timestamp": 1567583075751,
     "user": {
      "displayName": "AY W",
      "photoUrl": "https://lh3.googleusercontent.com/a-/AAuE7mAIP0Tw_ATzFbG_1esgJR9hVtZfx7Qbzc4RXe2p=s64",
      "userId": "00058470301957032608"
     },
     "user_tz": -60
    },
    "id": "4XhQifRj7cXk",
    "outputId": "f9d85cda-529c-4c03-c930-9293e356cf2d"
   },
   "outputs": [
    {
     "name": "stdout",
     "output_type": "stream",
     "text": [
      "Found GPU at: /device:GPU:0\n"
     ]
    },
    {
     "data": {
      "text/plain": [
       "'Tesla K80'"
      ]
     },
     "execution_count": 16,
     "metadata": {
      "tags": []
     },
     "output_type": "execute_result"
    }
   ],
   "source": [
    "import os\n",
    "os.environ['CUDA_VISBLE_DEVICES'] = '0'\n",
    "use_cude = True\n",
    "\n",
    "import tensorflow as tf\n",
    "\n",
    "device_name = tf.test.gpu_device_name()\n",
    "if device_name != '/device:GPU:0':\n",
    "  raise SystemError('GPU device not found')\n",
    "print('Found GPU at: {}'.format(device_name))\n",
    "\n",
    "device = torch.device(\"cuda\" if torch.cuda.is_available() else \"cpu\")\n",
    "n_gpu = torch.cuda.device_count()\n",
    "torch.cuda.get_device_name(0)"
   ]
  },
  {
   "cell_type": "code",
   "execution_count": 17,
   "metadata": {
    "colab": {
     "base_uri": "https://localhost:8080/",
     "height": 76
    },
    "colab_type": "code",
    "executionInfo": {
     "elapsed": 1630,
     "status": "ok",
     "timestamp": 1567583075751,
     "user": {
      "displayName": "AY W",
      "photoUrl": "https://lh3.googleusercontent.com/a-/AAuE7mAIP0Tw_ATzFbG_1esgJR9hVtZfx7Qbzc4RXe2p=s64",
      "userId": "00058470301957032608"
     },
     "user_tz": -60
    },
    "id": "dt_9MVYRTdeI",
    "outputId": "c6401f13-c888-45d4-f0c1-cd3528083461"
   },
   "outputs": [
    {
     "name": "stdout",
     "output_type": "stream",
     "text": [
      "Drive already mounted at /content/drive; to attempt to forcibly remount, call drive.mount(\"/content/drive\", force_remount=True).\n"
     ]
    }
   ],
   "source": [
    "from google.colab import drive\n",
    "drive.mount('/content/drive')\n"
   ]
  },
  {
   "cell_type": "markdown",
   "metadata": {
    "colab_type": "text",
    "id": "qZmeDK55II6C"
   },
   "source": [
    "# Prepare data\n"
   ]
  },
  {
   "cell_type": "code",
   "execution_count": 18,
   "metadata": {
    "colab": {
     "base_uri": "https://localhost:8080/",
     "height": 96
    },
    "colab_type": "code",
    "executionInfo": {
     "elapsed": 3371,
     "status": "ok",
     "timestamp": 1567583077506,
     "user": {
      "displayName": "AY W",
      "photoUrl": "https://lh3.googleusercontent.com/a-/AAuE7mAIP0Tw_ATzFbG_1esgJR9hVtZfx7Qbzc4RXe2p=s64",
      "userId": "00058470301957032608"
     },
     "user_tz": -60
    },
    "id": "qj5li5Gya26J",
    "outputId": "b3f0d09e-f49e-4fd7-c22f-c5d0fcc3c316"
   },
   "outputs": [
    {
     "name": "stdout",
     "output_type": "stream",
     "text": [
      "the\n"
     ]
    }
   ],
   "source": [
    "data = pd.read_csv(\"/content/drive/My Drive/nlp-data/train_dataset4.csv\", header=None)\n",
    "headers = ['rank', 'word', 'part_of_speech', 'frequency', 'dispersion', 'dictionary_def', 'word_embed', 'dic_embed' ]\n",
    "data.columns = headers\n",
    "data = data.drop(0)\n",
    "\n",
    "word_list = data['word'].values.tolist()\n",
    "word_list = [string.replace(u'\\xa0\\xa0\\xa0', u'') for string in word_list]\n",
    "word_em = data['word_embed'].values.tolist()\n",
    "dic_em = data['dic_embed'].values.tolist()\n",
    "print(word_list[0])"
   ]
  },
  {
   "cell_type": "markdown",
   "metadata": {
    "colab_type": "text",
    "id": "Bqjbw6u8TpUe"
   },
   "source": [
    "now convert embedding dataframe from a list of strings to a list of np.array."
   ]
  },
  {
   "cell_type": "code",
   "execution_count": 20,
   "metadata": {
    "colab": {
     "base_uri": "https://localhost:8080/",
     "height": 112
    },
    "colab_type": "code",
    "executionInfo": {
     "elapsed": 5670,
     "status": "ok",
     "timestamp": 1567583079822,
     "user": {
      "displayName": "AY W",
      "photoUrl": "https://lh3.googleusercontent.com/a-/AAuE7mAIP0Tw_ATzFbG_1esgJR9hVtZfx7Qbzc4RXe2p=s64",
      "userId": "00058470301957032608"
     },
     "user_tz": -60
    },
    "id": "CUNzM_maU1xl",
    "outputId": "e89e7e99-479e-45c7-812c-1bb9f1771fa7"
   },
   "outputs": [
    {
     "name": "stdout",
     "output_type": "stream",
     "text": [
      "768\n",
      "768\n"
     ]
    }
   ],
   "source": [
    "def convert_to_array(aa):\n",
    "  \n",
    "  aa = aa.split()\n",
    "  \n",
    "  if aa[0] == '[[':\n",
    "  \n",
    "    #print(len(aa))\n",
    "    aa[-1] = aa[-1].replace(u']]', u'') \n",
    "    aa = aa[1:]\n",
    "    aa= [float(i) for i in aa]\n",
    "    aa = np.asarray(aa)\n",
    "    \n",
    "  else:\n",
    "    aa[0] = aa[0].replace(u'[[', u'')\n",
    "    aa[-1] = aa[-1].replace(u']]', u'') \n",
    "    aa= [float(i) for i in aa]\n",
    "    aa = np.asarray(aa)\n",
    "    \n",
    "  return aa\n",
    "\n",
    "word_embed = []\n",
    "dic_embed = []\n",
    "for i in word_em:\n",
    "  b = convert_to_array(i)\n",
    "  word_embed.append(b)\n",
    "  \n",
    "for j in dic_em:\n",
    "  c = convert_to_array(j)\n",
    "  dic_embed.append(c)\n",
    "\n",
    "print(len(word_embed[1]))\n",
    "print(len(dic_embed[0]))"
   ]
  },
  {
   "cell_type": "code",
   "execution_count": 0,
   "metadata": {
    "colab": {},
    "colab_type": "code",
    "id": "G-jMogXFKAYi"
   },
   "outputs": [],
   "source": [
    "# def normalize(v):\n",
    "#     norm = np.linalg.norm(v)\n",
    "#     if norm == 0: \n",
    "#        return v\n",
    "#     return v / norm\n",
    "\n",
    "# word_embed = [normalize(i) for i in word_embed]\n",
    "# dic_embed = [normalize(i) for i in dic_embed]\n",
    "# print(len(word_embed))"
   ]
  },
  {
   "cell_type": "markdown",
   "metadata": {
    "colab_type": "text",
    "id": "PDtItRCKIZ41"
   },
   "source": [
    "# Load data in NN"
   ]
  },
  {
   "cell_type": "markdown",
   "metadata": {
    "colab_type": "text",
    "id": "DnpDDFvJT6BV"
   },
   "source": [
    "load data. \\\\\n",
    "through torchtext.data.Field define the datatype that are latter to be converted to tensors. \\\\\n",
    "target_em =  dictionary embedding \\\\\n",
    "scr_em = word_embedding \\\\\n",
    "now both text and target are non-sequential data whose embeddings are to be acquired through building vocab"
   ]
  },
  {
   "cell_type": "code",
   "execution_count": 22,
   "metadata": {
    "colab": {
     "base_uri": "https://localhost:8080/",
     "height": 96
    },
    "colab_type": "code",
    "executionInfo": {
     "elapsed": 7392,
     "status": "ok",
     "timestamp": 1567583081562,
     "user": {
      "displayName": "AY W",
      "photoUrl": "https://lh3.googleusercontent.com/a-/AAuE7mAIP0Tw_ATzFbG_1esgJR9hVtZfx7Qbzc4RXe2p=s64",
      "userId": "00058470301957032608"
     },
     "user_tz": -60
    },
    "id": "DtPtajDADshn",
    "outputId": "31d199ea-c094-45c0-a390-367ee80b2fce"
   },
   "outputs": [
    {
     "name": "stdout",
     "output_type": "stream",
     "text": [
      "   be\n"
     ]
    }
   ],
   "source": [
    "text = torchtext.data.Field(sequential=False, batch_first=True, lower=True)\n",
    "target = torchtext.data.Field(sequential=False, batch_first=True, lower=True, is_target=True)\n",
    "\n",
    "train = torchtext.data.TabularDataset(path=\"/content/drive/My Drive/nlp-data/train_dataset5.csv\", format='csv',\n",
    "                                      fields={'word': ('text', text),\n",
    "                                              'def_word': ('target',target)})\n",
    "\n",
    "print(train[1].target)"
   ]
  },
  {
   "cell_type": "raw",
   "metadata": {
    "colab_type": "text",
    "id": "zNv4GSXvVLnA"
   },
   "source": [
    "text.vocab.vector = word embedding \\\\\n",
    "targer.vocab.vector = dictionary embedding"
   ]
  },
  {
   "cell_type": "code",
   "execution_count": 23,
   "metadata": {
    "colab": {
     "base_uri": "https://localhost:8080/",
     "height": 76
    },
    "colab_type": "code",
    "executionInfo": {
     "elapsed": 7379,
     "status": "ok",
     "timestamp": 1567583081562,
     "user": {
      "displayName": "AY W",
      "photoUrl": "https://lh3.googleusercontent.com/a-/AAuE7mAIP0Tw_ATzFbG_1esgJR9hVtZfx7Qbzc4RXe2p=s64",
      "userId": "00058470301957032608"
     },
     "user_tz": -60
    },
    "id": "agFiNkClKEDb",
    "outputId": "9ed31b80-a39f-4249-f691-c2c63c1a4070"
   },
   "outputs": [
    {
     "name": "stdout",
     "output_type": "stream",
     "text": [
      "torch.Size([5000, 768])\n"
     ]
    }
   ],
   "source": [
    "source_matrix = np.asarray(word_embed)\n",
    "source_matrix = torch.tensor(source_matrix.reshape(5000, 768))\n",
    "target_matrix = np.asarray(dic_embed)\n",
    "target_matrix = torch.tensor(target_matrix.reshape(5000, 768))\n",
    "\n",
    "\n",
    "text.build_vocab(train)\n",
    "text.vocab.vectors = source_matrix\n",
    "print(text.vocab.vectors.shape)\n",
    "\n",
    "target.build_vocab(train)\n",
    "target.vocab.vectors = target_matrix\n"
   ]
  },
  {
   "cell_type": "markdown",
   "metadata": {
    "colab_type": "text",
    "id": "XQCC_--pVbg9"
   },
   "source": [
    "split train and validation sets"
   ]
  },
  {
   "cell_type": "code",
   "execution_count": 0,
   "metadata": {
    "colab": {},
    "colab_type": "code",
    "id": "RTgy_HUTK2ma"
   },
   "outputs": [],
   "source": [
    "\n",
    "random.seed(2018)\n",
    "train, val = train.split(split_ratio=0.9, random_state=random.getstate())"
   ]
  },
  {
   "cell_type": "markdown",
   "metadata": {
    "colab_type": "text",
    "id": "wUxGpIrXIgmu"
   },
   "source": [
    "# Model"
   ]
  },
  {
   "cell_type": "markdown",
   "metadata": {
    "colab_type": "text",
    "id": "X7G7w6c-Vfbz"
   },
   "source": [
    "defining model"
   ]
  },
  {
   "cell_type": "code",
   "execution_count": 0,
   "metadata": {
    "colab": {},
    "colab_type": "code",
    "id": "OVZfKcfLwPLt"
   },
   "outputs": [],
   "source": [
    "class FNN(nn.Module):\n",
    "    def __init__(self, weight, hidden_dim=768, dropout=0.1):\n",
    "      \n",
    "        super(FNN, self).__init__()\n",
    "        self.hidden_dim = hidden_dim\n",
    "        self.dropout = nn.Dropout(p=dropout)\n",
    "        self.embedding = nn.Embedding.from_pretrained(weight)\n",
    "        \n",
    "        #activation function\n",
    "        self.relu = nn.ReLU()\n",
    "        self.elu = nn.ELU()\n",
    "        self.tanh = nn.Tanh()\n",
    "        #hidden layers\n",
    "        self.linear1 = nn.Linear(768, 12)\n",
    "        self.linear2 = nn.Linear(12, 768)\n",
    "        #self.linear3 = nn.Linear(768, 768)\n",
    "    \n",
    "    def forward(self, x):\n",
    "        x = torch.transpose(x, dim0=1, dim1=0)\n",
    "        #print('size x:', x.size())\n",
    "        \n",
    "        embeds = self.embedding(x).to(dtype=torch.float32)\n",
    "\n",
    "        #layer 1\n",
    "        a = self.linear1(embeds)\n",
    "        b = self.tanh(self.dropout(a))\n",
    "        c = self.linear2(b)\n",
    "\n",
    "        # #layer 2\n",
    "        # c = self.elu(b)\n",
    "        # d = self.linear2(self.dropout(c))\n",
    "\n",
    "        # #layer 3\n",
    "        # e = self.elu(d)\n",
    "        # f = self.linear3(self.dropout(e))\n",
    "\n",
    "        return c\n"
   ]
  },
  {
   "cell_type": "markdown",
   "metadata": {
    "colab_type": "text",
    "id": "TAF6ub2wYBsc"
   },
   "source": [
    "# trainer"
   ]
  },
  {
   "cell_type": "code",
   "execution_count": 0,
   "metadata": {
    "colab": {},
    "colab_type": "code",
    "id": "unBPZ2YcwdOZ"
   },
   "outputs": [],
   "source": [
    "train_loss = []\n",
    "validation_loss = []\n",
    "\n",
    "def training(epoch, model, target_weight, eval_every, loss_func, optimizer, train_iter, val_iter, early_stop=1, warmup_epoch=2):\n",
    "    \n",
    "    step = 0\n",
    "    max_loss = 1e5\n",
    "    no_improve_epoch = 0\n",
    "    no_improve_in_previous_epoch = False\n",
    "    train_record = []\n",
    "    val_record = []\n",
    "    losses = []\n",
    "      \n",
    "    \n",
    "    for e in range(epoch):\n",
    "        if e >= warmup_epoch:\n",
    "            if no_improve_in_previous_epoch:\n",
    "                no_improve_epoch += 1\n",
    "                if no_improve_epoch >= early_stop:\n",
    "                    break\n",
    "            else:\n",
    "                no_improve_epoch = 0\n",
    "            no_improve_in_previous_epoch = True\n",
    "        \n",
    "        train_iter.init_epoch()\n",
    "        for train_batch in iter(train_iter):\n",
    "          \n",
    "            step += 1\n",
    "            model.train()\n",
    "\n",
    "            \n",
    "            x = train_batch.text.cuda()\n",
    "            y = train_batch.target.cuda()\n",
    "            \n",
    "            model.zero_grad()\n",
    "            #print(x)\n",
    "            pred = model.forward(x.unsqueeze(-1)).view(-1)\n",
    "            \n",
    "            embedding = nn.Embedding.from_pretrained(target_weight).cuda()\n",
    "            embedding = embedding.to(dtype=torch.float32)\n",
    "            y = embedding(y.unsqueeze(0)).view(-1)\n",
    "\n",
    "            loss = loss_function(pred, y)\n",
    "            losses.append(loss.cpu().data.numpy())\n",
    "            train_record.append(loss.cpu().data.numpy())\n",
    "            loss.backward()\n",
    "            optimizer.step()\n",
    "            if step % eval_every == 0:\n",
    "                model.eval()\n",
    "                model.zero_grad()\n",
    "                val_loss = []\n",
    "                for val_batch in iter(val_iter):\n",
    "                    val_x = val_batch.text.cuda()\n",
    "                    val_y = val_batch.target.cuda()\n",
    "                    val_pred = model.forward(val_x.unsqueeze(-1)).view(-1)\n",
    "\n",
    "                    val_y = embedding(val_y.unsqueeze(0)).view(-1)\n",
    "                    \n",
    "                    val_loss.append(loss_function(val_pred, val_y).cpu().data.numpy())\n",
    "                val_record.append({'step': step, 'loss': np.mean(val_loss)})\n",
    "                print('epcoh {:02} - step {:06} - train_loss {:.4f} - val_loss {:.4f} '.format(\n",
    "                            e, step, np.mean(losses), val_record[-1]['loss']))\n",
    "                train_loss.append(np.mean(losses))\n",
    "                validation_loss.append(val_record[-1]['loss'])\n",
    "                if e >= warmup_epoch:\n",
    "                    if val_record[-1]['loss'] <= max_loss:\n",
    "                        save(m=model, info={'step': step, 'epoch': e, 'train_loss': np.mean(losses),\n",
    "                                            'val_loss': val_record[-1]['loss']})\n",
    "                        max_loss = val_record[-1]['loss']\n",
    "                        no_improve_in_previous_epoch = False\n",
    "    \n",
    "\n",
    "def save(m, info):\n",
    "    torch.save(info, 'best_model.info')\n",
    "    torch.save(m, 'best_model.m')\n",
    "    \n",
    "def load():\n",
    "    m = torch.load('best_model.m')\n",
    "    info = torch.load('best_model.info')\n",
    "    return m, info"
   ]
  },
  {
   "cell_type": "markdown",
   "metadata": {
    "colab_type": "text",
    "id": "jPTPh29TYGaS"
   },
   "source": [
    "define the training model "
   ]
  },
  {
   "cell_type": "code",
   "execution_count": 27,
   "metadata": {
    "colab": {
     "base_uri": "https://localhost:8080/",
     "height": 128
    },
    "colab_type": "code",
    "executionInfo": {
     "elapsed": 7359,
     "status": "ok",
     "timestamp": 1567583081564,
     "user": {
      "displayName": "AY W",
      "photoUrl": "https://lh3.googleusercontent.com/a-/AAuE7mAIP0Tw_ATzFbG_1esgJR9hVtZfx7Qbzc4RXe2p=s64",
      "userId": "00058470301957032608"
     },
     "user_tz": -60
    },
    "id": "0BbVZb9IwjN1",
    "outputId": "fd95403e-8084-4863-9cdb-d717467d0357"
   },
   "outputs": [
    {
     "name": "stdout",
     "output_type": "stream",
     "text": [
      "1\n",
      "2\n",
      "3\n",
      "4\n"
     ]
    }
   ],
   "source": [
    "\n",
    "print('1')\n",
    "batch_size = 10\n",
    "train_iter = torchtext.data.Iterator(dataset=train,\n",
    "                                               batch_size=batch_size,\n",
    "                                               shuffle=True,\n",
    "                                               sort=False)\n",
    "val_iter = torchtext.data.Iterator(dataset=val,\n",
    "                                             batch_size=batch_size,\n",
    "                                             train=False,\n",
    "                                             sort=False)\n",
    "print('2')\n",
    "model = FNN(text.vocab.vectors, hidden_dim=768, dropout=0.2).cuda()\n",
    "print('3')\n",
    "loss_function = torch.nn.MSELoss()\n",
    "print('4')\n",
    "optimizer = optim.SGD(filter(lambda p: p.requires_grad, model.parameters()),\n",
    "                    lr=1e-3)#, weight_decay=1e-3)"
   ]
  },
  {
   "cell_type": "markdown",
   "metadata": {
    "colab_type": "text",
    "id": "LIpZO4wLYLsf"
   },
   "source": [
    "now train..."
   ]
  },
  {
   "cell_type": "markdown",
   "metadata": {
    "colab_type": "text",
    "id": "EjJOMQLeIors"
   },
   "source": [
    "# Train"
   ]
  },
  {
   "cell_type": "code",
   "execution_count": 28,
   "metadata": {
    "colab": {
     "base_uri": "https://localhost:8080/",
     "height": 996
    },
    "colab_type": "code",
    "executionInfo": {
     "elapsed": 147668,
     "status": "ok",
     "timestamp": 1567583221884,
     "user": {
      "displayName": "AY W",
      "photoUrl": "https://lh3.googleusercontent.com/a-/AAuE7mAIP0Tw_ATzFbG_1esgJR9hVtZfx7Qbzc4RXe2p=s64",
      "userId": "00058470301957032608"
     },
     "user_tz": -60
    },
    "id": "c6IGlc5GwnDV",
    "outputId": "8a0a74f0-e763-48cd-f417-75100b68fca0"
   },
   "outputs": [
    {
     "name": "stdout",
     "output_type": "stream",
     "text": [
      "epcoh 01 - step 000500 - train_loss 0.2760 - val_loss 0.2693 \n",
      "epcoh 02 - step 001000 - train_loss 0.2737 - val_loss 0.2683 \n",
      "epcoh 03 - step 001500 - train_loss 0.2727 - val_loss 0.2676 \n"
     ]
    },
    {
     "name": "stderr",
     "output_type": "stream",
     "text": [
      "/usr/local/lib/python3.6/dist-packages/torch/serialization.py:256: UserWarning: Couldn't retrieve source code for container of type FNN. It won't be checked for correctness upon loading.\n",
      "  \"type \" + obj.__name__ + \". It won't be checked \"\n"
     ]
    },
    {
     "name": "stdout",
     "output_type": "stream",
     "text": [
      "epcoh 04 - step 002000 - train_loss 0.2720 - val_loss 0.2669 \n",
      "epcoh 05 - step 002500 - train_loss 0.2714 - val_loss 0.2661 \n",
      "epcoh 06 - step 003000 - train_loss 0.2709 - val_loss 0.2654 \n",
      "epcoh 07 - step 003500 - train_loss 0.2704 - val_loss 0.2647 \n",
      "epcoh 08 - step 004000 - train_loss 0.2700 - val_loss 0.2640 \n",
      "epcoh 09 - step 004500 - train_loss 0.2696 - val_loss 0.2633 \n",
      "epcoh 11 - step 005000 - train_loss 0.2692 - val_loss 0.2627 \n",
      "epcoh 12 - step 005500 - train_loss 0.2688 - val_loss 0.2620 \n",
      "epcoh 13 - step 006000 - train_loss 0.2684 - val_loss 0.2613 \n",
      "epcoh 14 - step 006500 - train_loss 0.2680 - val_loss 0.2607 \n",
      "epcoh 15 - step 007000 - train_loss 0.2676 - val_loss 0.2600 \n",
      "epcoh 16 - step 007500 - train_loss 0.2673 - val_loss 0.2593 \n",
      "epcoh 17 - step 008000 - train_loss 0.2669 - val_loss 0.2587 \n",
      "epcoh 18 - step 008500 - train_loss 0.2665 - val_loss 0.2580 \n",
      "epcoh 19 - step 009000 - train_loss 0.2662 - val_loss 0.2574 \n",
      "epcoh 21 - step 009500 - train_loss 0.2658 - val_loss 0.2567 \n",
      "epcoh 22 - step 010000 - train_loss 0.2655 - val_loss 0.2561 \n",
      "epcoh 23 - step 010500 - train_loss 0.2652 - val_loss 0.2554 \n",
      "epcoh 24 - step 011000 - train_loss 0.2648 - val_loss 0.2548 \n",
      "epcoh 25 - step 011500 - train_loss 0.2645 - val_loss 0.2542 \n",
      "epcoh 26 - step 012000 - train_loss 0.2641 - val_loss 0.2535 \n",
      "epcoh 27 - step 012500 - train_loss 0.2638 - val_loss 0.2529 \n",
      "epcoh 28 - step 013000 - train_loss 0.2634 - val_loss 0.2523 \n",
      "epcoh 29 - step 013500 - train_loss 0.2631 - val_loss 0.2516 \n",
      "epcoh 31 - step 014000 - train_loss 0.2628 - val_loss 0.2510 \n",
      "epcoh 32 - step 014500 - train_loss 0.2624 - val_loss 0.2503 \n",
      "epcoh 33 - step 015000 - train_loss 0.2621 - val_loss 0.2497 \n",
      "epcoh 34 - step 015500 - train_loss 0.2618 - val_loss 0.2491 \n",
      "epcoh 35 - step 016000 - train_loss 0.2615 - val_loss 0.2485 \n",
      "epcoh 36 - step 016500 - train_loss 0.2611 - val_loss 0.2478 \n",
      "epcoh 37 - step 017000 - train_loss 0.2608 - val_loss 0.2472 \n",
      "epcoh 38 - step 017500 - train_loss 0.2605 - val_loss 0.2466 \n",
      "epcoh 39 - step 018000 - train_loss 0.2602 - val_loss 0.2460 \n",
      "epcoh 41 - step 018500 - train_loss 0.2598 - val_loss 0.2454 \n",
      "epcoh 42 - step 019000 - train_loss 0.2595 - val_loss 0.2447 \n",
      "epcoh 43 - step 019500 - train_loss 0.2592 - val_loss 0.2441 \n",
      "epcoh 44 - step 020000 - train_loss 0.2589 - val_loss 0.2435 \n",
      "epcoh 45 - step 020500 - train_loss 0.2586 - val_loss 0.2429 \n",
      "epcoh 46 - step 021000 - train_loss 0.2582 - val_loss 0.2423 \n",
      "epcoh 47 - step 021500 - train_loss 0.2579 - val_loss 0.2417 \n",
      "epcoh 48 - step 022000 - train_loss 0.2576 - val_loss 0.2410 \n",
      "epcoh 49 - step 022500 - train_loss 0.2573 - val_loss 0.2404 \n"
     ]
    }
   ],
   "source": [
    "training(model=model, target_weight= target.vocab.vectors, epoch=50, eval_every=500,\n",
    "         loss_func=loss_function, optimizer=optimizer, train_iter=train_iter,\n",
    "        val_iter=val_iter, warmup_epoch=3, early_stop=2)"
   ]
  },
  {
   "cell_type": "markdown",
   "metadata": {
    "colab_type": "text",
    "id": "PTvZTIKAIy3U"
   },
   "source": [
    "save state_dic()"
   ]
  },
  {
   "cell_type": "code",
   "execution_count": 0,
   "metadata": {
    "colab": {},
    "colab_type": "code",
    "id": "DpMLkPb3lYa-"
   },
   "outputs": [],
   "source": [
    "model, m_info = load()\n",
    "m_info\n",
    "\n",
    "torch.save(model.state_dict(), \"/content/drive/My Drive/nlp-data/fnn_reversed.pt\")"
   ]
  },
  {
   "cell_type": "code",
   "execution_count": 30,
   "metadata": {
    "colab": {
     "base_uri": "https://localhost:8080/",
     "height": 324
    },
    "colab_type": "code",
    "executionInfo": {
     "elapsed": 151610,
     "status": "ok",
     "timestamp": 1567583225843,
     "user": {
      "displayName": "AY W",
      "photoUrl": "https://lh3.googleusercontent.com/a-/AAuE7mAIP0Tw_ATzFbG_1esgJR9hVtZfx7Qbzc4RXe2p=s64",
      "userId": "00058470301957032608"
     },
     "user_tz": -60
    },
    "id": "vD3Ws6GlB56z",
    "outputId": "e786511a-3d55-4e10-fb50-2b06d12f8a09"
   },
   "outputs": [
    {
     "data": {
      "image/png": "[encoded data removed]",
      "text/plain": [
       "<Figure size 432x288 with 1 Axes>"
      ]
     },
     "metadata": {
      "tags": []
     },
     "output_type": "display_data"
    }
   ],
   "source": [
    "import matplotlib.pyplot as plt\n",
    "\n",
    "plt.plot(range(len(train_loss)), train_loss, label = 'train loss')\n",
    "plt.plot(range(len(train_loss)), validation_loss, label = 'validation loss')\n",
    "plt.legend()\n",
    "plt.ylabel('MSE')\n",
    "\n",
    "plt.xlabel('time step')\n",
    "plt.savefig(\"/content/drive/My Drive/train.png\", dpi=500)"
   ]
  },
  {
   "cell_type": "code",
   "execution_count": 0,
   "metadata": {
    "colab": {},
    "colab_type": "code",
    "id": "4F_SnJ56AlCh"
   },
   "outputs": [],
   "source": [
    "data = pd.read_csv(r\"/content/drive/My Drive/nlp-data/eval/cat_all.csv\", header = None)\n",
    "\n",
    "word_em = data[2][1:].values.tolist()\n",
    "def_em = data[3][1:].values.tolist()\n",
    "words = data[0][1:].values.tolist()\n",
    "word2 = data[1][1:].values.tolist()\n",
    "\n",
    "\n",
    "word_embed = []\n",
    "def_embed = []\n",
    "\n",
    "def convert_to_array(aa):\n",
    "  \n",
    "  aa = aa.split()\n",
    "  \n",
    "  if aa[0] == '[[':\n",
    "  \n",
    "    #print(len(aa))\n",
    "    aa[-1] = aa[-1].replace(u']]', u'') \n",
    "    aa = aa[1:]\n",
    "    aa= [float(i) for i in aa]\n",
    "    aa = np.asarray(aa)\n",
    "    \n",
    "  else:\n",
    "    aa[0] = aa[0].replace(u'[[', u'')\n",
    "    aa[-1] = aa[-1].replace(u']]', u'') \n",
    "    aa= [float(i) for i in aa]\n",
    "    aa = np.asarray(aa)\n",
    "    \n",
    "  return aa\n",
    "\n",
    "for i in word_em:\n",
    "  b = convert_to_array(i)\n",
    "  word_embed.append(b)\n",
    "\n",
    "for i in def_em:\n",
    "  b = convert_to_array(i)\n",
    "  def_embed.append(b)\n",
    "\n",
    "# word_embed = [normalize(i) for i in word_embed]\n",
    "# def_embed = [normalize(f) for f in def_embed]\n",
    "embed_tt = word_embed+def_embed\n",
    "word_tt = words+word2\n"
   ]
  },
  {
   "cell_type": "code",
   "execution_count": 0,
   "metadata": {
    "colab": {},
    "colab_type": "code",
    "id": "jC2jIwj6AnMe"
   },
   "outputs": [],
   "source": [
    "x_matrix = np.asarray(word_embed)\n",
    "x_matrix = torch.tensor(x_matrix.reshape(len(word_embed), 768))\n",
    "zero_pad = torch.zeros(5000-len(x_matrix), 768)\n",
    "x_matrix = torch.tensor(np.vstack((x_matrix, zero_pad)))"
   ]
  },
  {
   "cell_type": "code",
   "execution_count": 0,
   "metadata": {
    "colab": {},
    "colab_type": "code",
    "id": "5E_eRvw8AzFi"
   },
   "outputs": [],
   "source": [
    "model_1 = FNN(x_matrix, hidden_dim=768, dropout=0.2).cuda()\n",
    "model_1.load_state_dict(torch.load('/content/drive/My Drive/nlp-data/fnn_reversed.pt')) #/content/drive/My Drive/nlp-data/bi-lstem1_reversed.pt， /content/drive/My Drive/nlp-data/bi-lstem1.pt\n",
    "model_1.eval()\n",
    "\n",
    "new_embed2=[]\n",
    "for i in range(len(x_matrix)):\n",
    "  x = torch.tensor([int(i)]).cuda()\n",
    "  pred_x = model_1.forward(x.unsqueeze(-1)).view(-1)\n",
    "  pred_x = torch.Tensor.cpu(pred_x).detach().numpy()\n",
    "  new_embed2.append(pred_x)\n"
   ]
  },
  {
   "cell_type": "code",
   "execution_count": 0,
   "metadata": {
    "colab": {},
    "colab_type": "code",
    "id": "FidSaFfuA6mI"
   },
   "outputs": [],
   "source": [
    "\n",
    "embed_tt = def_embed+new_embed2[:7]\n",
    "word_tt = word2 +['cat_t', 'tiger_t', 'lion_t', 'lynx_t', 'caracal_t', 'cougar_t', 'ocelot_t']"
   ]
  },
  {
   "cell_type": "code",
   "execution_count": 35,
   "metadata": {
    "colab": {
     "base_uri": "https://localhost:8080/",
     "height": 55
    },
    "colab_type": "code",
    "executionInfo": {
     "elapsed": 155471,
     "status": "ok",
     "timestamp": 1567583229740,
     "user": {
      "displayName": "AY W",
      "photoUrl": "https://lh3.googleusercontent.com/a-/AAuE7mAIP0Tw_ATzFbG_1esgJR9hVtZfx7Qbzc4RXe2p=s64",
      "userId": "00058470301957032608"
     },
     "user_tz": -60
    },
    "id": "WI68R-E0A9B1",
    "outputId": "b721c9f1-d81a-4d71-dc97-a3c9dfe6fe9b"
   },
   "outputs": [
    {
     "data": {
      "text/plain": [
       "14"
      ]
     },
     "execution_count": 35,
     "metadata": {
      "tags": []
     },
     "output_type": "execute_result"
    }
   ],
   "source": [
    "len(embed_tt)"
   ]
  },
  {
   "cell_type": "code",
   "execution_count": 36,
   "metadata": {
    "colab": {
     "base_uri": "https://localhost:8080/",
     "height": 398
    },
    "colab_type": "code",
    "executionInfo": {
     "elapsed": 155870,
     "status": "ok",
     "timestamp": 1567583230146,
     "user": {
      "displayName": "AY W",
      "photoUrl": "https://lh3.googleusercontent.com/a-/AAuE7mAIP0Tw_ATzFbG_1esgJR9hVtZfx7Qbzc4RXe2p=s64",
      "userId": "00058470301957032608"
     },
     "user_tz": -60
    },
    "id": "JwCt29aZA_K3",
    "outputId": "8cf14c31-f373-478c-a4c8-59b9fb4da6fc"
   },
   "outputs": [
    {
     "data": {
      "image/png": "[encoded data removed]",
      "text/plain": [
       "<Figure size 864x432 with 2 Axes>"
      ]
     },
     "metadata": {
      "tags": []
     },
     "output_type": "display_data"
    }
   ],
   "source": [
    "from sklearn.decomposition import PCA\n",
    "\n",
    "import matplotlib.pyplot as plt\n",
    "\n",
    "my_embed=embed_tt\n",
    "X = [x.reshape(-1,) for x in my_embed]\n",
    "tsne_model = PCA(n_components=2)\n",
    "X_embedded = tsne_model.fit_transform(X)\n",
    "\n",
    "fix, ax = plt.subplots(1, 2, figsize=(12, 6))\n",
    "ax[0].scatter(X_embedded[:,0], X_embedded[:,1], s=100)\n",
    "zoom = [(x,tx) for x,tx in zip(X_embedded, word_tt) ]\n",
    "for i, txt in zoom:\n",
    "     ax[0].annotate(txt, (i[0], i[1]))"
   ]
  },
  {
   "cell_type": "markdown",
   "metadata": {
    "colab_type": "text",
    "id": "3CRygS3euo7-"
   },
   "source": [
    "# prepare embedding for downstream task"
   ]
  },
  {
   "cell_type": "code",
   "execution_count": 37,
   "metadata": {
    "colab": {
     "base_uri": "https://localhost:8080/",
     "height": 92
    },
    "colab_type": "code",
    "executionInfo": {
     "elapsed": 161700,
     "status": "ok",
     "timestamp": 1567583235983,
     "user": {
      "displayName": "AY W",
      "photoUrl": "https://lh3.googleusercontent.com/a-/AAuE7mAIP0Tw_ATzFbG_1esgJR9hVtZfx7Qbzc4RXe2p=s64",
      "userId": "00058470301957032608"
     },
     "user_tz": -60
    },
    "id": "qUhC3IMgus9x",
    "outputId": "3b04a2ca-8808-4a50-e0c3-974f6349b7cd"
   },
   "outputs": [
    {
     "name": "stdout",
     "output_type": "stream",
     "text": [
      "[4, 23, 25, 41, 81, 40, 27, 30, 30, 10, 20, 17, 16, 12, 8, 14, 111, 5, 25, 20, 19, 29, 11, 25, 3, 23, 17, 8, 28, 24, 32, 17, 2, 16, 10, 7, 20, 10, 15, 1, 16, 4, 11, 17, 11, 7, 86, 29, 12, 16, 26, 10, 3, 6, 9, 7, 6, 10, 11, 13, 6, 4, 4, 15, 28, 6, 14, 9, 5, 2, 10, 7, 42, 2, 11, 7, 3, 14, 32, 22, 27, 5, 6, 32, 22, 4, 9, 24, 21, 12, 16, 5, 7, 11, 3, 7, 15, 30, 14, 8, 3, 7, 9, 5, 19, 14, 21, 2, 28, 9, 48, 10, 8, 33, 14, 13, 23, 21, 7, 35, 4, 19, 6, 16, 6, 8, 9, 10, 7, 27, 20, 63, 13, 20, 19, 6, 14, 1, 5, 13, 1, 8, 10, 13, 12, 31, 5, 2, 6, 5]\n",
      "{'0': 4, '1': 23, '2': 25, '3': 41, '4': 81, '5': 40, '6': 27, '7': 30, '8': 30, '9': 10, '10': 20, '11': 17, '12': 16, '13': 12, '14': 8, '15': 14, '16': 111, '17': 5, '18': 25, '19': 20, '20': 19, '21': 29, '22': 11, '23': 25, '24': 3, '25': 23, '26': 17, '27': 8, '28': 28, '29': 24, '30': 32, '31': 17, '32': 2, '33': 16, '34': 10, '35': 7, '36': 20, '37': 10, '38': 15, '39': 1, '40': 16, '41': 4, '42': 11, '43': 17, '44': 11, '45': 7, '46': 86, '47': 29, '48': 12, '49': 16, '50': 26, '51': 10, '52': 3, '53': 6, '54': 9, '55': 7, '56': 6, '57': 10, '58': 11, '59': 13, '60': 6, '61': 4, '62': 4, '63': 15, '64': 28, '65': 6, '66': 14, '67': 9, '68': 5, '69': 2, '70': 10, '71': 7, '72': 42, '73': 2, '74': 11, '75': 7, '76': 3, '77': 14, '78': 32, '79': 22, '80': 27, '81': 5, '82': 6, '83': 32, '84': 22, '85': 4, '86': 9, '87': 24, '88': 21, '89': 12, '90': 16, '91': 5, '92': 7, '93': 11, '94': 3, '95': 7, '96': 15, '97': 30, '98': 14, '99': 8, '100': 3, '101': 7, '102': 9, '103': 5, '104': 19, '105': 14, '106': 21, '107': 2, '108': 28, '109': 9, '110': 48, '111': 10, '112': 8, '113': 33, '114': 14, '115': 13, '116': 23, '117': 21, '118': 7, '119': 35, '120': 4, '121': 19, '122': 6, '123': 16, '124': 6, '125': 8, '126': 9, '127': 10, '128': 7, '129': 27, '130': 20, '131': 63, '132': 13, '133': 20, '134': 19, '135': 6, '136': 14, '137': 1, '138': 5, '139': 13, '140': 1, '141': 8, '142': 10, '143': 13, '144': 12, '145': 31, '146': 5, '147': 2, '148': 6, '149': 5}\n"
     ]
    }
   ],
   "source": [
    "df1 = pd.read_csv(\"/content/drive/My Drive/nlp-data/def_embed_150k.csv\", header=None)\n",
    "df2 = pd.read_csv(\"/content/drive/My Drive/nlp-data/150_syn_dic_embed.csv\", header=None)\n",
    "df3 = pd.read_csv(\"/content/drive/My Drive/nlp-data/150_syns.csv\", header=None)\n",
    "df4 = pd.read_csv(\"/content/drive/My Drive/nlp-data/eval/150_bert_embed.csv\", header=None)\n",
    "df5 = pd.read_csv(\"/content/drive/My Drive/nlp-data/eval/2415_bert_syns_embed.csv\", header=None)\n",
    "\n",
    "index = np.arange(150)\n",
    "num_syn = df3[3][1:].values.tolist()\n",
    "num_syn = [int(i) for i in num_syn]\n",
    "print(num_syn)\n",
    "\n",
    "d = {}\n",
    "for i in np.arange(150):\n",
    "  d[str(i)] = num_syn[i]\n",
    "print(d)\n",
    "\n",
    "word_em = df1[1][1:].values.tolist() #dic\n",
    "syn_em = df2[1][1:].values.tolist() \n",
    "bert_em = df4[1][1:].values.tolist() #bert\n",
    "bert_syn_em = df5[1][1:].values.tolist()"
   ]
  },
  {
   "cell_type": "code",
   "execution_count": 38,
   "metadata": {
    "colab": {
     "base_uri": "https://localhost:8080/",
     "height": 76
    },
    "colab_type": "code",
    "executionInfo": {
     "elapsed": 163550,
     "status": "ok",
     "timestamp": 1567583237840,
     "user": {
      "displayName": "AY W",
      "photoUrl": "https://lh3.googleusercontent.com/a-/AAuE7mAIP0Tw_ATzFbG_1esgJR9hVtZfx7Qbzc4RXe2p=s64",
      "userId": "00058470301957032608"
     },
     "user_tz": -60
    },
    "id": "5ErCHmwmu0MS",
    "outputId": "098be0fb-c4e9-4a22-ebf9-92b209506719"
   },
   "outputs": [
    {
     "name": "stdout",
     "output_type": "stream",
     "text": [
      "2415\n"
     ]
    }
   ],
   "source": [
    "def convert_to_array(aa):\n",
    "  \n",
    "  aa = aa.split()\n",
    "  \n",
    "  if aa[0] == '[[':\n",
    "  \n",
    "    #print(len(aa))\n",
    "    aa[-1] = aa[-1].replace(u']]', u'') \n",
    "    aa = aa[1:]\n",
    "    aa= [float(i) for i in aa]\n",
    "    aa = np.asarray(aa)\n",
    "    \n",
    "  else:\n",
    "    aa[0] = aa[0].replace(u'[[', u'')\n",
    "    aa[-1] = aa[-1].replace(u']]', u'') \n",
    "    aa= [float(i) for i in aa]\n",
    "    aa = np.asarray(aa)\n",
    "    \n",
    "  return aa\n",
    "\n",
    "word_embed = []\n",
    "syn_embed = []\n",
    "bert_syn_embed = []\n",
    "bert_embed = []\n",
    "\n",
    "for i in word_em:\n",
    "  b = convert_to_array(i)\n",
    "  word_embed.append(b)\n",
    "  \n",
    "for j in syn_em:\n",
    "  c = convert_to_array(j)\n",
    "  syn_embed.append(c)\n",
    "  \n",
    "for j in bert_em:\n",
    "  c = convert_to_array(j)\n",
    "  bert_embed.append(c)\n",
    "  \n",
    "for j in bert_syn_em:\n",
    "  c = convert_to_array(j)\n",
    "  bert_syn_embed.append(c)\n",
    "  \n",
    "\n",
    "print(len(bert_syn_embed))"
   ]
  },
  {
   "cell_type": "code",
   "execution_count": 0,
   "metadata": {
    "colab": {},
    "colab_type": "code",
    "id": "Qy_Y45Aou5pR"
   },
   "outputs": [],
   "source": [
    "x_matrix = np.asarray(word_embed) #dic\n",
    "x_matrix = torch.tensor(x_matrix.reshape(150, 768)) #dic\n",
    "syn_matrix = np.asarray(syn_embed) #dic\n",
    "syn_matrix = torch.tensor(syn_matrix.reshape(2415, 768)) #dic\n",
    "\n",
    "b_matrix = np.asarray(bert_embed) #bert\n",
    "b_matrix = torch.tensor(b_matrix.reshape(150, 768))\n",
    "b_syn_matrix = np.asarray(bert_syn_embed)\n",
    "b_syn_matrix = torch.tensor(b_syn_matrix.reshape(2415, 768))"
   ]
  },
  {
   "cell_type": "code",
   "execution_count": 0,
   "metadata": {
    "colab": {},
    "colab_type": "code",
    "id": "VIB2iBtiu8Ow"
   },
   "outputs": [],
   "source": [
    "#dff = pd.read_csv('/content/drive/My Drive/nlp-data/berkeley/dic_vec.txt', header=None)\n",
    "f=open('/content/drive/My Drive/nlp-data/bert.vec.txt',\"r\")\n",
    "lines=f.readlines()\n",
    "result=[]\n",
    "for x in lines:\n",
    "    result.append(x)\n",
    "f.close()"
   ]
  },
  {
   "cell_type": "code",
   "execution_count": 0,
   "metadata": {
    "colab": {},
    "colab_type": "code",
    "id": "ZFGsLSPhu-XH"
   },
   "outputs": [],
   "source": [
    "word_list = []\n",
    "em_list = []\n",
    "for i in range(len(result)):\n",
    "\n",
    "  w = result[i].split()\n",
    "  word_list.append(w[0])\n",
    "  vec = w[1:]\n",
    "  em = []\n",
    "  for j in vec:\n",
    "    em.append(float(j))\n",
    "  em_list.append(em)"
   ]
  },
  {
   "cell_type": "code",
   "execution_count": 0,
   "metadata": {
    "colab": {},
    "colab_type": "code",
    "id": "w38PczxXvA3m"
   },
   "outputs": [],
   "source": [
    "\n",
    "x_matrix = np.asarray(em_list[:5000])\n",
    "x_matrix = torch.tensor(x_matrix.reshape(5000, 768))\n",
    "x2_matrix = np.asarray(em_list[5000:10000])\n",
    "x2_matrix = torch.tensor(x2_matrix.reshape(5000, 768))\n",
    "x3_matrix = np.asarray(em_list[10000:])\n",
    "x3_matrix = torch.tensor(x3_matrix.reshape(len(em_list[10000:]), 768))"
   ]
  },
  {
   "cell_type": "code",
   "execution_count": 43,
   "metadata": {
    "colab": {
     "base_uri": "https://localhost:8080/",
     "height": 196
    },
    "colab_type": "code",
    "executionInfo": {
     "elapsed": 168627,
     "status": "ok",
     "timestamp": 1567583242952,
     "user": {
      "displayName": "AY W",
      "photoUrl": "https://lh3.googleusercontent.com/a-/AAuE7mAIP0Tw_ATzFbG_1esgJR9hVtZfx7Qbzc4RXe2p=s64",
      "userId": "00058470301957032608"
     },
     "user_tz": -60
    },
    "id": "IUrOczF9vEAx",
    "outputId": "08f41fd5-3086-448c-fb4d-305f1b3297d7"
   },
   "outputs": [
    {
     "data": {
      "text/plain": [
       "FNN(\n",
       "  (dropout): Dropout(p=0.2)\n",
       "  (embedding): Embedding(5000, 768)\n",
       "  (relu): ReLU()\n",
       "  (elu): ELU(alpha=1.0)\n",
       "  (tanh): Tanh()\n",
       "  (linear1): Linear(in_features=768, out_features=12, bias=True)\n",
       "  (linear2): Linear(in_features=12, out_features=768, bias=True)\n",
       ")"
      ]
     },
     "execution_count": 43,
     "metadata": {
      "tags": []
     },
     "output_type": "execute_result"
    }
   ],
   "source": [
    "zero_pad = torch.zeros(5000-len(em_list[10000:]), 768)\n",
    "x3_matrix = torch.tensor(np.vstack((x3_matrix, zero_pad)))\n",
    "\n",
    "model_1 = FNN(x_matrix, hidden_dim=768, dropout=0.2).cuda()\n",
    "model_1.load_state_dict(torch.load('/content/drive/My Drive/nlp-data/fnn_reversed.pt'))\n",
    "model_2 = FNN(x2_matrix, hidden_dim=768,  dropout=0.2).cuda()\n",
    "model_2.load_state_dict(torch.load('/content/drive/My Drive/nlp-data/fnn_reversed.pt'))\n",
    "model_3 = FNN(x3_matrix, hidden_dim=768, dropout=0.2).cuda()\n",
    "model_3.load_state_dict(torch.load('/content/drive/My Drive/nlp-data/fnn_reversed.pt'))\n",
    "model_1.eval()\n",
    "model_2.eval()\n",
    "model_3.eval()"
   ]
  },
  {
   "cell_type": "code",
   "execution_count": 0,
   "metadata": {
    "colab": {},
    "colab_type": "code",
    "id": "-X6rCHkJvGlU"
   },
   "outputs": [],
   "source": [
    "l1 = []\n",
    "l2 = []\n",
    "l3 = []\n",
    "for i in range(5000):\n",
    "  a = torch.tensor([i]).cuda()\n",
    "\n",
    "  batch_a = model_1.forward(a.unsqueeze(-1)).view(-1)\n",
    "  batch_b = model_2.forward(a.unsqueeze(-1)).view(-1)\n",
    "  batch_c = model_3.forward(a.unsqueeze(-1)).view(-1)\n",
    "  l1.append(torch.Tensor.cpu(batch_a).detach().numpy())\n",
    "  l2.append(torch.Tensor.cpu(batch_b).detach().numpy())\n",
    "  l3.append(torch.Tensor.cpu(batch_c).detach().numpy())\n",
    "\n",
    "list_embed = l1+l2+l3"
   ]
  },
  {
   "cell_type": "code",
   "execution_count": 0,
   "metadata": {
    "colab": {},
    "colab_type": "code",
    "id": "Ai3s36c6vIjE"
   },
   "outputs": [],
   "source": [
    "list_embed = list_embed[:10156]\n",
    "\n",
    "DAT =  np.column_stack((word_list, list_embed))\n",
    "    \n",
    "np.savetxt('/content/drive/My Drive/nlp-data/berkeley/fnn_vec.txt', DAT, delimiter=\" \", fmt='%s') "
   ]
  }
 ],
 "metadata": {
  "accelerator": "GPU",
  "colab": {
   "collapsed_sections": [
    "8f-TuZJFItnl"
   ],
   "name": "mapping_em_ffn.ipynb",
   "provenance": [
    {
     "file_id": "14XpPT6jzepfMQ8qJfDkFJnT48harZB3v",
     "timestamp": 1566755532311
    }
   ],
   "version": "0.3.2"
  },
  "kernelspec": {
   "display_name": "Python 3",
   "language": "python",
   "name": "python3"
  },
  "language_info": {
   "codemirror_mode": {
    "name": "ipython",
    "version": 3
   },
   "file_extension": ".py",
   "mimetype": "text/x-python",
   "name": "python",
   "nbconvert_exporter": "python",
   "pygments_lexer": "ipython3",
   "version": "3.7.3"
  }
 },
 "nbformat": 4,
 "nbformat_minor": 1
}
