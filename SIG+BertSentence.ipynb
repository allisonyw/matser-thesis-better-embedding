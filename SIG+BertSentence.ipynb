{
 "cells": [
  {
   "cell_type": "markdown",
   "metadata": {
    "colab_type": "text",
    "id": "A-rvo137q0gV"
   },
   "source": [
    "# Prelim"
   ]
  },
  {
   "cell_type": "code",
   "execution_count": 27,
   "metadata": {
    "colab": {
     "base_uri": "https://localhost:8080/",
     "height": 440
    },
    "colab_type": "code",
    "executionInfo": {
     "elapsed": 7463,
     "status": "ok",
     "timestamp": 1567561361265,
     "user": {
      "displayName": "for horseshit",
      "photoUrl": "",
      "userId": "04801509467754962272"
     },
     "user_tz": -60
    },
    "id": "bqbFhgR4JnDN",
    "outputId": "98fb8285-2f94-482f-e5b3-ad32ee68f30a"
   },
   "outputs": [
    {
     "name": "stdout",
     "output_type": "stream",
     "text": [
      "Requirement already satisfied: signatory in /usr/local/lib/python3.6/dist-packages (1.1.0)\n",
      "Requirement already satisfied: pytorch-transformers in /usr/local/lib/python3.6/dist-packages (1.1.0)\n",
      "Requirement already satisfied: boto3 in /usr/local/lib/python3.6/dist-packages (from pytorch-transformers) (1.9.216)\n",
      "Requirement already satisfied: numpy in /usr/local/lib/python3.6/dist-packages (from pytorch-transformers) (1.16.4)\n",
      "Requirement already satisfied: requests in /usr/local/lib/python3.6/dist-packages (from pytorch-transformers) (2.21.0)\n",
      "Requirement already satisfied: torch>=1.0.0 in /usr/local/lib/python3.6/dist-packages (from pytorch-transformers) (1.1.0)\n",
      "Requirement already satisfied: sentencepiece in /usr/local/lib/python3.6/dist-packages (from pytorch-transformers) (0.1.83)\n",
      "Requirement already satisfied: regex in /usr/local/lib/python3.6/dist-packages (from pytorch-transformers) (2019.8.19)\n",
      "Requirement already satisfied: tqdm in /usr/local/lib/python3.6/dist-packages (from pytorch-transformers) (4.28.1)\n",
      "Requirement already satisfied: jmespath<1.0.0,>=0.7.1 in /usr/local/lib/python3.6/dist-packages (from boto3->pytorch-transformers) (0.9.4)\n",
      "Requirement already satisfied: botocore<1.13.0,>=1.12.216 in /usr/local/lib/python3.6/dist-packages (from boto3->pytorch-transformers) (1.12.216)\n",
      "Requirement already satisfied: s3transfer<0.3.0,>=0.2.0 in /usr/local/lib/python3.6/dist-packages (from boto3->pytorch-transformers) (0.2.1)\n",
      "Requirement already satisfied: idna<2.9,>=2.5 in /usr/local/lib/python3.6/dist-packages (from requests->pytorch-transformers) (2.8)\n",
      "Requirement already satisfied: certifi>=2017.4.17 in /usr/local/lib/python3.6/dist-packages (from requests->pytorch-transformers) (2019.6.16)\n",
      "Requirement already satisfied: chardet<3.1.0,>=3.0.2 in /usr/local/lib/python3.6/dist-packages (from requests->pytorch-transformers) (3.0.4)\n",
      "Requirement already satisfied: urllib3<1.25,>=1.21.1 in /usr/local/lib/python3.6/dist-packages (from requests->pytorch-transformers) (1.24.3)\n",
      "Requirement already satisfied: docutils<0.16,>=0.10 in /usr/local/lib/python3.6/dist-packages (from botocore<1.13.0,>=1.12.216->boto3->pytorch-transformers) (0.15.2)\n",
      "Requirement already satisfied: python-dateutil<3.0.0,>=2.1; python_version >= \"2.7\" in /usr/local/lib/python3.6/dist-packages (from botocore<1.13.0,>=1.12.216->boto3->pytorch-transformers) (2.5.3)\n",
      "Requirement already satisfied: six>=1.5 in /usr/local/lib/python3.6/dist-packages (from python-dateutil<3.0.0,>=2.1; python_version >= \"2.7\"->botocore<1.13.0,>=1.12.216->boto3->pytorch-transformers) (1.12.0)\n"
     ]
    }
   ],
   "source": [
    "!pip install signatory\n",
    "\n",
    "!pip install pytorch-transformers"
   ]
  },
  {
   "cell_type": "code",
   "execution_count": 0,
   "metadata": {
    "colab": {},
    "colab_type": "code",
    "id": "lAIGzxmEqyQp"
   },
   "outputs": [],
   "source": [
    "import logging\n",
    "\n",
    "import pandas as pd\n",
    "import numpy as np\n",
    "import random\n",
    "import signatory\n",
    "#import iisignature\n",
    "from sklearn.model_selection import train_test_split\n",
    "from sklearn.metrics import f1_score, precision_score, recall_score, roc_auc_score\n",
    "from tqdm import tqdm, trange\n",
    "\n",
    "import torch\n",
    "from torch import nn\n",
    "from torch import autograd\n",
    "from torch.autograd import Variable\n",
    "import torch.nn.functional as F\n",
    "from sklearn.model_selection import train_test_split\n",
    "from torch.nn.utils.rnn import pad_sequence\n",
    "from torch.utils.data import TensorDataset, DataLoader, RandomSampler, SequentialSampler\n",
    "from torch import optim\n",
    "import torchtext\n",
    "\n",
    "#from pytorch_transformers import *\n",
    "from pytorch_transformers import BertTokenizer, BertConfig, AdamW, WarmupLinearSchedule\n",
    "\n"
   ]
  },
  {
   "cell_type": "code",
   "execution_count": 29,
   "metadata": {
    "colab": {
     "base_uri": "https://localhost:8080/",
     "height": 92
    },
    "colab_type": "code",
    "executionInfo": {
     "elapsed": 7444,
     "status": "ok",
     "timestamp": 1567561361266,
     "user": {
      "displayName": "for horseshit",
      "photoUrl": "",
      "userId": "04801509467754962272"
     },
     "user_tz": -60
    },
    "id": "_8jDnslb-pVZ",
    "outputId": "73f6d841-32c4-4ae9-f590-88037be34fcf"
   },
   "outputs": [
    {
     "name": "stdout",
     "output_type": "stream",
     "text": [
      "Found GPU at: /device:GPU:0\n"
     ]
    },
    {
     "data": {
      "text/plain": [
       "'Tesla K80'"
      ]
     },
     "execution_count": 29,
     "metadata": {
      "tags": []
     },
     "output_type": "execute_result"
    }
   ],
   "source": [
    "import os\n",
    "os.environ['CUDA_VISBLE_DEVICES'] = '0'\n",
    "use_cude = True\n",
    "\n",
    "import tensorflow as tf\n",
    "\n",
    "device_name = tf.test.gpu_device_name()\n",
    "if device_name != '/device:GPU:0':\n",
    "  raise SystemError('GPU device not found')\n",
    "print('Found GPU at: {}'.format(device_name))\n",
    "\n",
    "device = torch.device(\"cuda\" if torch.cuda.is_available() else \"cpu\")\n",
    "n_gpu = torch.cuda.device_count()\n",
    "torch.cuda.get_device_name(0)"
   ]
  },
  {
   "cell_type": "code",
   "execution_count": 30,
   "metadata": {
    "colab": {
     "base_uri": "https://localhost:8080/",
     "height": 76
    },
    "colab_type": "code",
    "executionInfo": {
     "elapsed": 7431,
     "status": "ok",
     "timestamp": 1567561361267,
     "user": {
      "displayName": "for horseshit",
      "photoUrl": "",
      "userId": "04801509467754962272"
     },
     "user_tz": -60
    },
    "id": "B-Vpo6Jpqt4I",
    "outputId": "15058bac-cec0-434d-cca5-b9a514217e34"
   },
   "outputs": [
    {
     "name": "stdout",
     "output_type": "stream",
     "text": [
      "Drive already mounted at /content/drive; to attempt to forcibly remount, call drive.mount(\"/content/drive\", force_remount=True).\n"
     ]
    }
   ],
   "source": [
    "from google.colab import drive\n",
    "drive.mount('/content/drive')"
   ]
  },
  {
   "cell_type": "markdown",
   "metadata": {
    "colab_type": "text",
    "id": "cDxFoJ3Wq7ly"
   },
   "source": [
    "# load data"
   ]
  },
  {
   "cell_type": "code",
   "execution_count": 0,
   "metadata": {
    "colab": {},
    "colab_type": "code",
    "id": "3zQr4fwKq9zl"
   },
   "outputs": [],
   "source": [
    "data = pd.read_csv(r\"/content/drive/My Drive/berkeley/no-complex-oversample.txt\", header = None)\n"
   ]
  },
  {
   "cell_type": "code",
   "execution_count": 0,
   "metadata": {
    "colab": {},
    "colab_type": "code",
    "id": "thez2joErLJ5"
   },
   "outputs": [],
   "source": [
    "from ast import literal_eval\n",
    "sentence_list = data[0][1:].values.tolist()\n",
    "sentence_list = [\"[CLS] \" + sentence + \" [SEP]\" for sentence in sentence_list]\n",
    "\n",
    "\n",
    "tag = data[2][1:].values.tolist()\n",
    "\n"
   ]
  },
  {
   "cell_type": "code",
   "execution_count": 33,
   "metadata": {
    "colab": {
     "base_uri": "https://localhost:8080/",
     "height": 76
    },
    "colab_type": "code",
    "executionInfo": {
     "elapsed": 7411,
     "status": "ok",
     "timestamp": 1567561361268,
     "user": {
      "displayName": "for horseshit",
      "photoUrl": "",
      "userId": "04801509467754962272"
     },
     "user_tz": -60
    },
    "id": "7dJzmG7SXBHi",
    "outputId": "4a0365af-ecc3-449b-8819-fd03468d8e6d"
   },
   "outputs": [
    {
     "name": "stdout",
     "output_type": "stream",
     "text": [
      "{'DISONLY': 0, 'PREVENT': 1, 'NONE': 2, 'TREAT_NO_FOR_DIS': 3, 'TREAT_FOR_DIS': 4, 'TREATONLY': 5, 'VAGUE': 6, 'SIDE_EFF': 7}\n"
     ]
    }
   ],
   "source": [
    "tags2vals = list(set(tag))\n",
    "tag2idx = {t: i for i, t in enumerate(tags2vals)}\n",
    "print(tag2idx)"
   ]
  },
  {
   "cell_type": "markdown",
   "metadata": {
    "colab_type": "text",
    "id": "Omf-AgzEaYAX"
   },
   "source": [
    "# BERT"
   ]
  },
  {
   "cell_type": "code",
   "execution_count": 0,
   "metadata": {
    "colab": {},
    "colab_type": "code",
    "id": "A6pr0Je7tmpe"
   },
   "outputs": [],
   "source": [
    "# load pre-trained BERT with signature method coded in \n",
    "import sys\n",
    "sys.path.append('/content/drive/My Drive/transformer')\n",
    "import modeling_bert43 as mb"
   ]
  },
  {
   "cell_type": "code",
   "execution_count": 35,
   "metadata": {
    "colab": {
     "base_uri": "https://localhost:8080/",
     "height": 1000
    },
    "colab_type": "code",
    "executionInfo": {
     "elapsed": 12818,
     "status": "ok",
     "timestamp": 1567561366689,
     "user": {
      "displayName": "for horseshit",
      "photoUrl": "",
      "userId": "04801509467754962272"
     },
     "user_tz": -60
    },
    "id": "YU-5grssRwYG",
    "outputId": "dd63ad25-7452-4864-84b7-a183d7ebf234"
   },
   "outputs": [
    {
     "data": {
      "text/plain": [
       "BertForSequenceClassification(\n",
       "  (bert): BertModel(\n",
       "    (embeddings): BertEmbeddings(\n",
       "      (word_embeddings): Embedding(30522, 768, padding_idx=0)\n",
       "      (position_embeddings): Embedding(512, 768)\n",
       "      (token_type_embeddings): Embedding(2, 768)\n",
       "      (LayerNorm): BertLayerNorm()\n",
       "      (dropout): Dropout(p=0.1)\n",
       "    )\n",
       "    (encoder): BertEncoder(\n",
       "      (layer): ModuleList(\n",
       "        (0): BertLayer(\n",
       "          (attention): BertAttention(\n",
       "            (self): BertSelfAttention(\n",
       "              (query): Linear(in_features=768, out_features=768, bias=True)\n",
       "              (key): Linear(in_features=768, out_features=768, bias=True)\n",
       "              (value): Linear(in_features=768, out_features=768, bias=True)\n",
       "              (dropout): Dropout(p=0.1)\n",
       "            )\n",
       "            (output): BertSelfOutput(\n",
       "              (dense): Linear(in_features=768, out_features=768, bias=True)\n",
       "              (LayerNorm): BertLayerNorm()\n",
       "              (dropout): Dropout(p=0.1)\n",
       "            )\n",
       "          )\n",
       "          (intermediate): BertIntermediate(\n",
       "            (dense): Linear(in_features=768, out_features=3072, bias=True)\n",
       "          )\n",
       "          (output): BertOutput(\n",
       "            (dense): Linear(in_features=3072, out_features=768, bias=True)\n",
       "            (LayerNorm): BertLayerNorm()\n",
       "            (dropout): Dropout(p=0.1)\n",
       "          )\n",
       "        )\n",
       "        (1): BertLayer(\n",
       "          (attention): BertAttention(\n",
       "            (self): BertSelfAttention(\n",
       "              (query): Linear(in_features=768, out_features=768, bias=True)\n",
       "              (key): Linear(in_features=768, out_features=768, bias=True)\n",
       "              (value): Linear(in_features=768, out_features=768, bias=True)\n",
       "              (dropout): Dropout(p=0.1)\n",
       "            )\n",
       "            (output): BertSelfOutput(\n",
       "              (dense): Linear(in_features=768, out_features=768, bias=True)\n",
       "              (LayerNorm): BertLayerNorm()\n",
       "              (dropout): Dropout(p=0.1)\n",
       "            )\n",
       "          )\n",
       "          (intermediate): BertIntermediate(\n",
       "            (dense): Linear(in_features=768, out_features=3072, bias=True)\n",
       "          )\n",
       "          (output): BertOutput(\n",
       "            (dense): Linear(in_features=3072, out_features=768, bias=True)\n",
       "            (LayerNorm): BertLayerNorm()\n",
       "            (dropout): Dropout(p=0.1)\n",
       "          )\n",
       "        )\n",
       "        (2): BertLayer(\n",
       "          (attention): BertAttention(\n",
       "            (self): BertSelfAttention(\n",
       "              (query): Linear(in_features=768, out_features=768, bias=True)\n",
       "              (key): Linear(in_features=768, out_features=768, bias=True)\n",
       "              (value): Linear(in_features=768, out_features=768, bias=True)\n",
       "              (dropout): Dropout(p=0.1)\n",
       "            )\n",
       "            (output): BertSelfOutput(\n",
       "              (dense): Linear(in_features=768, out_features=768, bias=True)\n",
       "              (LayerNorm): BertLayerNorm()\n",
       "              (dropout): Dropout(p=0.1)\n",
       "            )\n",
       "          )\n",
       "          (intermediate): BertIntermediate(\n",
       "            (dense): Linear(in_features=768, out_features=3072, bias=True)\n",
       "          )\n",
       "          (output): BertOutput(\n",
       "            (dense): Linear(in_features=3072, out_features=768, bias=True)\n",
       "            (LayerNorm): BertLayerNorm()\n",
       "            (dropout): Dropout(p=0.1)\n",
       "          )\n",
       "        )\n",
       "        (3): BertLayer(\n",
       "          (attention): BertAttention(\n",
       "            (self): BertSelfAttention(\n",
       "              (query): Linear(in_features=768, out_features=768, bias=True)\n",
       "              (key): Linear(in_features=768, out_features=768, bias=True)\n",
       "              (value): Linear(in_features=768, out_features=768, bias=True)\n",
       "              (dropout): Dropout(p=0.1)\n",
       "            )\n",
       "            (output): BertSelfOutput(\n",
       "              (dense): Linear(in_features=768, out_features=768, bias=True)\n",
       "              (LayerNorm): BertLayerNorm()\n",
       "              (dropout): Dropout(p=0.1)\n",
       "            )\n",
       "          )\n",
       "          (intermediate): BertIntermediate(\n",
       "            (dense): Linear(in_features=768, out_features=3072, bias=True)\n",
       "          )\n",
       "          (output): BertOutput(\n",
       "            (dense): Linear(in_features=3072, out_features=768, bias=True)\n",
       "            (LayerNorm): BertLayerNorm()\n",
       "            (dropout): Dropout(p=0.1)\n",
       "          )\n",
       "        )\n",
       "        (4): BertLayer(\n",
       "          (attention): BertAttention(\n",
       "            (self): BertSelfAttention(\n",
       "              (query): Linear(in_features=768, out_features=768, bias=True)\n",
       "              (key): Linear(in_features=768, out_features=768, bias=True)\n",
       "              (value): Linear(in_features=768, out_features=768, bias=True)\n",
       "              (dropout): Dropout(p=0.1)\n",
       "            )\n",
       "            (output): BertSelfOutput(\n",
       "              (dense): Linear(in_features=768, out_features=768, bias=True)\n",
       "              (LayerNorm): BertLayerNorm()\n",
       "              (dropout): Dropout(p=0.1)\n",
       "            )\n",
       "          )\n",
       "          (intermediate): BertIntermediate(\n",
       "            (dense): Linear(in_features=768, out_features=3072, bias=True)\n",
       "          )\n",
       "          (output): BertOutput(\n",
       "            (dense): Linear(in_features=3072, out_features=768, bias=True)\n",
       "            (LayerNorm): BertLayerNorm()\n",
       "            (dropout): Dropout(p=0.1)\n",
       "          )\n",
       "        )\n",
       "        (5): BertLayer(\n",
       "          (attention): BertAttention(\n",
       "            (self): BertSelfAttention(\n",
       "              (query): Linear(in_features=768, out_features=768, bias=True)\n",
       "              (key): Linear(in_features=768, out_features=768, bias=True)\n",
       "              (value): Linear(in_features=768, out_features=768, bias=True)\n",
       "              (dropout): Dropout(p=0.1)\n",
       "            )\n",
       "            (output): BertSelfOutput(\n",
       "              (dense): Linear(in_features=768, out_features=768, bias=True)\n",
       "              (LayerNorm): BertLayerNorm()\n",
       "              (dropout): Dropout(p=0.1)\n",
       "            )\n",
       "          )\n",
       "          (intermediate): BertIntermediate(\n",
       "            (dense): Linear(in_features=768, out_features=3072, bias=True)\n",
       "          )\n",
       "          (output): BertOutput(\n",
       "            (dense): Linear(in_features=3072, out_features=768, bias=True)\n",
       "            (LayerNorm): BertLayerNorm()\n",
       "            (dropout): Dropout(p=0.1)\n",
       "          )\n",
       "        )\n",
       "        (6): BertLayer(\n",
       "          (attention): BertAttention(\n",
       "            (self): BertSelfAttention(\n",
       "              (query): Linear(in_features=768, out_features=768, bias=True)\n",
       "              (key): Linear(in_features=768, out_features=768, bias=True)\n",
       "              (value): Linear(in_features=768, out_features=768, bias=True)\n",
       "              (dropout): Dropout(p=0.1)\n",
       "            )\n",
       "            (output): BertSelfOutput(\n",
       "              (dense): Linear(in_features=768, out_features=768, bias=True)\n",
       "              (LayerNorm): BertLayerNorm()\n",
       "              (dropout): Dropout(p=0.1)\n",
       "            )\n",
       "          )\n",
       "          (intermediate): BertIntermediate(\n",
       "            (dense): Linear(in_features=768, out_features=3072, bias=True)\n",
       "          )\n",
       "          (output): BertOutput(\n",
       "            (dense): Linear(in_features=3072, out_features=768, bias=True)\n",
       "            (LayerNorm): BertLayerNorm()\n",
       "            (dropout): Dropout(p=0.1)\n",
       "          )\n",
       "        )\n",
       "        (7): BertLayer(\n",
       "          (attention): BertAttention(\n",
       "            (self): BertSelfAttention(\n",
       "              (query): Linear(in_features=768, out_features=768, bias=True)\n",
       "              (key): Linear(in_features=768, out_features=768, bias=True)\n",
       "              (value): Linear(in_features=768, out_features=768, bias=True)\n",
       "              (dropout): Dropout(p=0.1)\n",
       "            )\n",
       "            (output): BertSelfOutput(\n",
       "              (dense): Linear(in_features=768, out_features=768, bias=True)\n",
       "              (LayerNorm): BertLayerNorm()\n",
       "              (dropout): Dropout(p=0.1)\n",
       "            )\n",
       "          )\n",
       "          (intermediate): BertIntermediate(\n",
       "            (dense): Linear(in_features=768, out_features=3072, bias=True)\n",
       "          )\n",
       "          (output): BertOutput(\n",
       "            (dense): Linear(in_features=3072, out_features=768, bias=True)\n",
       "            (LayerNorm): BertLayerNorm()\n",
       "            (dropout): Dropout(p=0.1)\n",
       "          )\n",
       "        )\n",
       "        (8): BertLayer(\n",
       "          (attention): BertAttention(\n",
       "            (self): BertSelfAttention(\n",
       "              (query): Linear(in_features=768, out_features=768, bias=True)\n",
       "              (key): Linear(in_features=768, out_features=768, bias=True)\n",
       "              (value): Linear(in_features=768, out_features=768, bias=True)\n",
       "              (dropout): Dropout(p=0.1)\n",
       "            )\n",
       "            (output): BertSelfOutput(\n",
       "              (dense): Linear(in_features=768, out_features=768, bias=True)\n",
       "              (LayerNorm): BertLayerNorm()\n",
       "              (dropout): Dropout(p=0.1)\n",
       "            )\n",
       "          )\n",
       "          (intermediate): BertIntermediate(\n",
       "            (dense): Linear(in_features=768, out_features=3072, bias=True)\n",
       "          )\n",
       "          (output): BertOutput(\n",
       "            (dense): Linear(in_features=3072, out_features=768, bias=True)\n",
       "            (LayerNorm): BertLayerNorm()\n",
       "            (dropout): Dropout(p=0.1)\n",
       "          )\n",
       "        )\n",
       "        (9): BertLayer(\n",
       "          (attention): BertAttention(\n",
       "            (self): BertSelfAttention(\n",
       "              (query): Linear(in_features=768, out_features=768, bias=True)\n",
       "              (key): Linear(in_features=768, out_features=768, bias=True)\n",
       "              (value): Linear(in_features=768, out_features=768, bias=True)\n",
       "              (dropout): Dropout(p=0.1)\n",
       "            )\n",
       "            (output): BertSelfOutput(\n",
       "              (dense): Linear(in_features=768, out_features=768, bias=True)\n",
       "              (LayerNorm): BertLayerNorm()\n",
       "              (dropout): Dropout(p=0.1)\n",
       "            )\n",
       "          )\n",
       "          (intermediate): BertIntermediate(\n",
       "            (dense): Linear(in_features=768, out_features=3072, bias=True)\n",
       "          )\n",
       "          (output): BertOutput(\n",
       "            (dense): Linear(in_features=3072, out_features=768, bias=True)\n",
       "            (LayerNorm): BertLayerNorm()\n",
       "            (dropout): Dropout(p=0.1)\n",
       "          )\n",
       "        )\n",
       "        (10): BertLayer(\n",
       "          (attention): BertAttention(\n",
       "            (self): BertSelfAttention(\n",
       "              (query): Linear(in_features=768, out_features=768, bias=True)\n",
       "              (key): Linear(in_features=768, out_features=768, bias=True)\n",
       "              (value): Linear(in_features=768, out_features=768, bias=True)\n",
       "              (dropout): Dropout(p=0.1)\n",
       "            )\n",
       "            (output): BertSelfOutput(\n",
       "              (dense): Linear(in_features=768, out_features=768, bias=True)\n",
       "              (LayerNorm): BertLayerNorm()\n",
       "              (dropout): Dropout(p=0.1)\n",
       "            )\n",
       "          )\n",
       "          (intermediate): BertIntermediate(\n",
       "            (dense): Linear(in_features=768, out_features=3072, bias=True)\n",
       "          )\n",
       "          (output): BertOutput(\n",
       "            (dense): Linear(in_features=3072, out_features=768, bias=True)\n",
       "            (LayerNorm): BertLayerNorm()\n",
       "            (dropout): Dropout(p=0.1)\n",
       "          )\n",
       "        )\n",
       "        (11): BertLayer(\n",
       "          (attention): BertAttention(\n",
       "            (self): BertSelfAttention(\n",
       "              (query): Linear(in_features=768, out_features=768, bias=True)\n",
       "              (key): Linear(in_features=768, out_features=768, bias=True)\n",
       "              (value): Linear(in_features=768, out_features=768, bias=True)\n",
       "              (dropout): Dropout(p=0.1)\n",
       "            )\n",
       "            (output): BertSelfOutput(\n",
       "              (dense): Linear(in_features=768, out_features=768, bias=True)\n",
       "              (LayerNorm): BertLayerNorm()\n",
       "              (dropout): Dropout(p=0.1)\n",
       "            )\n",
       "          )\n",
       "          (intermediate): BertIntermediate(\n",
       "            (dense): Linear(in_features=768, out_features=3072, bias=True)\n",
       "          )\n",
       "          (output): BertOutput(\n",
       "            (dense): Linear(in_features=3072, out_features=768, bias=True)\n",
       "            (LayerNorm): BertLayerNorm()\n",
       "            (dropout): Dropout(p=0.1)\n",
       "          )\n",
       "        )\n",
       "      )\n",
       "    )\n",
       "    (pooler): BertPooler(\n",
       "      (dense): Linear(in_features=768, out_features=768, bias=True)\n",
       "      (activation): Tanh()\n",
       "    )\n",
       "  )\n",
       "  (dropout): Dropout(p=0.1)\n",
       "  (linear1): Linear(in_features=768, out_features=4, bias=True)\n",
       "  (classifier): Linear(in_features=84, out_features=8, bias=True)\n",
       ")"
      ]
     },
     "execution_count": 35,
     "metadata": {
      "tags": []
     },
     "output_type": "execute_result"
    }
   ],
   "source": [
    "tokenizer = BertTokenizer.from_pretrained('bert-base-uncased')\n",
    "model = mb.BertForSequenceClassification.from_pretrained('bert-base-uncased',num_labels=8)\n",
    "model.cuda()"
   ]
  },
  {
   "cell_type": "code",
   "execution_count": 36,
   "metadata": {
    "colab": {
     "base_uri": "https://localhost:8080/",
     "height": 96
    },
    "colab_type": "code",
    "executionInfo": {
     "elapsed": 14168,
     "status": "ok",
     "timestamp": 1567561368050,
     "user": {
      "displayName": "for horseshit",
      "photoUrl": "",
      "userId": "04801509467754962272"
     },
     "user_tz": -60
    },
    "id": "Y_3D9_1ycThA",
    "outputId": "45e0b8ee-3e06-449e-a880-67a48671c3bf"
   },
   "outputs": [
    {
     "name": "stdout",
     "output_type": "stream",
     "text": [
      "['[CLS]', 'all', 'live', 'births', '>', 'or', '=', '23', 'weeks', 'at', 'the', 'university', 'of', 'vermont', 'in', '1995', '(', 'n', '=', '239', '##5', ')', 'were', 'retrospective', '##ly', 'analyzed', 'for', 'delivery', 'route', ',', 'indication', 'for', 'cesare', '##an', ',', 'ge', '##station', '##al', 'age', ',', 'par', '##ity', ',', 'and', 'practice', 'group', '(', 'to', 'reflect', 'risk', 'status', ')', '.', '[SEP]']\n"
     ]
    },
    {
     "data": {
      "text/plain": [
       "188"
      ]
     },
     "execution_count": 36,
     "metadata": {
      "tags": []
     },
     "output_type": "execute_result"
    }
   ],
   "source": [
    "tokenized_texts = [tokenizer.tokenize(sent) for sent in sentence_list]\n",
    "print(tokenized_texts[0])\n",
    "\n",
    "\n",
    "input_ids = [torch.tensor(tokenizer.convert_tokens_to_ids(x)) for x in tokenized_texts]\n",
    "\n",
    "input_ids = pad_sequence(input_ids, batch_first=True).detach().numpy()\n",
    "\n",
    "label = [tag2idx.get(l) for l in tag]\n",
    "\n",
    "len(input_ids[0])"
   ]
  },
  {
   "cell_type": "code",
   "execution_count": 0,
   "metadata": {
    "colab": {},
    "colab_type": "code",
    "id": "MvM5iFhxfIDH"
   },
   "outputs": [],
   "source": [
    "# Create attention masks\n",
    "attention_masks = []\n",
    "\n",
    "# Create a mask of 1s for each token followed by 0s for padding\n",
    "for seq in input_ids:\n",
    "  seq_mask = [float(i>0) for i in seq]\n",
    "  attention_masks.append(seq_mask) \n",
    "\n",
    "# Use train_test_split to split our data into train and validation sets for training\n",
    "\n",
    "train_inputs, val_inputs, train_labels, val_labels = train_test_split(input_ids, label, stratify = label,\n",
    "                                                            random_state=2018, test_size=0.2)\n",
    "\n",
    "train_masks, val_masks, _, _ = train_test_split(attention_masks, input_ids, stratify = label,\n",
    "                                             random_state=2018, test_size=0.2)\n",
    "\n",
    "                                           \n",
    "  \n",
    "# #print(train_inputs)\n",
    "\n",
    "# from imblearn.over_sampling import SMOTE\n",
    "\n",
    "# smote = SMOTE('not majority', random_state=2018)\n",
    "# train_masks, _ = smote.fit_resample(train_masks, train_labels)\n",
    "# train_inputs, train_labels = smote.fit_resample(train_inputs, train_labels)\n",
    "\n",
    "\n",
    "# print(len(train_labels))\n",
    "# print(len(train_masks))\n",
    "\n",
    "# from collections import Counter\n",
    "# tr_tags = [tags2vals[p] for p in train_labels]\n",
    "# Counter(tr_tags)"
   ]
  },
  {
   "cell_type": "code",
   "execution_count": 38,
   "metadata": {
    "colab": {
     "base_uri": "https://localhost:8080/",
     "height": 199
    },
    "colab_type": "code",
    "executionInfo": {
     "elapsed": 14752,
     "status": "ok",
     "timestamp": 1567561368648,
     "user": {
      "displayName": "for horseshit",
      "photoUrl": "",
      "userId": "04801509467754962272"
     },
     "user_tz": -60
    },
    "id": "TG0t9xn5yoIe",
    "outputId": "ca0857b6-3917-470e-e93c-1faeed2b9df2"
   },
   "outputs": [
    {
     "data": {
      "text/plain": [
       "Counter({'DISONLY': 126,\n",
       "         'NONE': 364,\n",
       "         'PREVENT': 13,\n",
       "         'SIDE_EFF': 6,\n",
       "         'TREATONLY': 34,\n",
       "         'TREAT_FOR_DIS': 166,\n",
       "         'TREAT_NO_FOR_DIS': 2,\n",
       "         'VAGUE': 7})"
      ]
     },
     "execution_count": 38,
     "metadata": {
      "tags": []
     },
     "output_type": "execute_result"
    }
   ],
   "source": [
    "from collections import Counter\n",
    "val_tags = [tags2vals[p] for p in val_labels]\n",
    "Counter(val_tags)"
   ]
  },
  {
   "cell_type": "code",
   "execution_count": 0,
   "metadata": {
    "colab": {},
    "colab_type": "code",
    "id": "6wY-I8192QHQ"
   },
   "outputs": [],
   "source": [
    "train_inputs = torch.tensor(train_inputs)\n",
    "val_inputs = torch.tensor(val_inputs)\n",
    "val_labels = torch.tensor(val_labels)\n",
    "train_masks = torch.tensor(train_masks)\n",
    "val_masks = torch.tensor(val_masks)"
   ]
  },
  {
   "cell_type": "code",
   "execution_count": 40,
   "metadata": {
    "colab": {
     "base_uri": "https://localhost:8080/",
     "height": 164
    },
    "colab_type": "code",
    "executionInfo": {
     "elapsed": 14997,
     "status": "ok",
     "timestamp": 1567561368906,
     "user": {
      "displayName": "for horseshit",
      "photoUrl": "",
      "userId": "04801509467754962272"
     },
     "user_tz": -60
    },
    "id": "_aGhZ5fxGS8Y",
    "outputId": "29950a6a-9b5e-4e88-ed02-5e1beefb2e98"
   },
   "outputs": [
    {
     "name": "stdout",
     "output_type": "stream",
     "text": [
      "torch.Size([2870, 188])\n",
      "torch.Size([2870])\n",
      "torch.Size([2870, 188])\n",
      "torch.Size([718, 188])\n",
      "torch.Size([718])\n",
      "torch.Size([718, 188])\n"
     ]
    }
   ],
   "source": [
    "print(train_inputs.size())\n",
    "print(train_labels.size())\n",
    "print(train_masks.size())\n",
    "\n",
    "print(val_inputs.size())\n",
    "print(val_labels.size())\n",
    "print(val_masks.size())"
   ]
  },
  {
   "cell_type": "code",
   "execution_count": 0,
   "metadata": {
    "colab": {},
    "colab_type": "code",
    "id": "g-Nlty0_pYAc"
   },
   "outputs": [],
   "source": [
    "# Create an iterator of our data with torch DataLoader. This helps save on memory during training because, unlike a for loop, \n",
    "# with an iterator the entire dataset does not need to be loaded into memory\n",
    "batch_size = 16\n",
    "\n",
    "train_data = TensorDataset(train_inputs, train_masks, train_labels)\n",
    "train_sampler = RandomSampler(train_data)\n",
    "train_dataloader = DataLoader(train_data, sampler=train_sampler, batch_size=batch_size)\n",
    "\n",
    "val_data = TensorDataset(val_inputs, val_masks, val_labels)\n",
    "val_sampler = SequentialSampler(val_data)\n",
    "val_dataloader = DataLoader(val_data, sampler=val_sampler, batch_size=batch_size)\n"
   ]
  },
  {
   "cell_type": "markdown",
   "metadata": {
    "colab_type": "text",
    "id": "r5iV49Jfux_R"
   },
   "source": [
    "## train"
   ]
  },
  {
   "cell_type": "code",
   "execution_count": 0,
   "metadata": {
    "colab": {},
    "colab_type": "code",
    "id": "MpxCbWHIuwd0"
   },
   "outputs": [],
   "source": [
    "param_optimizer = list(model.named_parameters())\n",
    "no_decay = ['bias', 'gamma', 'beta']\n",
    "optimizer_grouped_parameters = [\n",
    "    {'params': [p for n, p in param_optimizer if not any(nd in n for nd in no_decay)],\n",
    "     'weight_decay_rate': 0.01},\n",
    "    {'params': [p for n, p in param_optimizer if any(nd in n for nd in no_decay)],\n",
    "     'weight_decay_rate': 0.0}\n",
    "]"
   ]
  },
  {
   "cell_type": "code",
   "execution_count": 0,
   "metadata": {
    "colab": {},
    "colab_type": "code",
    "id": "-MeMvv7ipaXQ"
   },
   "outputs": [],
   "source": [
    "# This variable contains all of the hyperparemeter information our training loop needs\n",
    "lr = 3e-5\n",
    "max_grad_norm = 1.0\n",
    "num_total_steps = 1000\n",
    "num_warmup_steps = 100\n",
    "warmup_proportion = float(num_warmup_steps) / float(num_total_steps)  # 0.1\n",
    "\n",
    "optimizer = AdamW(model.parameters(), lr=lr, correct_bias=False, weight_decay=5e-5)\n",
    "scheduler = WarmupLinearSchedule(optimizer, warmup_steps=num_warmup_steps, t_total=num_total_steps)  # PyTorch scheduler"
   ]
  },
  {
   "cell_type": "code",
   "execution_count": 0,
   "metadata": {
    "colab": {},
    "colab_type": "code",
    "id": "OXHU5xS2vXmR"
   },
   "outputs": [],
   "source": [
    "# Function to calculate the accuracy of our predictions vs labels\n",
    "def flat_accuracy(preds, labels):\n",
    "    pred_flat = np.argmax(preds, axis=1).flatten()\n",
    "    labels_flat = labels.flatten()\n",
    "    return np.sum(pred_flat == labels_flat) / len(labels_flat)"
   ]
  },
  {
   "cell_type": "code",
   "execution_count": 45,
   "metadata": {
    "colab": {
     "base_uri": "https://localhost:8080/",
     "height": 92
    },
    "colab_type": "code",
    "executionInfo": {
     "elapsed": 14976,
     "status": "ok",
     "timestamp": 1567561368908,
     "user": {
      "displayName": "for horseshit",
      "photoUrl": "",
      "userId": "04801509467754962272"
     },
     "user_tz": -60
    },
    "id": "4KhlosyJ-K9t",
    "outputId": "30bc9043-177d-4d73-dde0-8b74a78d4d56"
   },
   "outputs": [
    {
     "name": "stdout",
     "output_type": "stream",
     "text": [
      "Found GPU at: /device:GPU:0\n"
     ]
    },
    {
     "data": {
      "text/plain": [
       "'Tesla K80'"
      ]
     },
     "execution_count": 45,
     "metadata": {
      "tags": []
     },
     "output_type": "execute_result"
    }
   ],
   "source": [
    "import tensorflow as tf\n",
    "\n",
    "device_name = tf.test.gpu_device_name()\n",
    "if device_name != '/device:GPU:0':\n",
    "  raise SystemError('GPU device not found')\n",
    "print('Found GPU at: {}'.format(device_name))\n",
    "\n",
    "device = torch.device(\"cuda\" if torch.cuda.is_available() else \"cpu\")\n",
    "n_gpu = torch.cuda.device_count()\n",
    "torch.cuda.get_device_name(0)"
   ]
  },
  {
   "cell_type": "code",
   "execution_count": 47,
   "metadata": {
    "colab": {
     "base_uri": "https://localhost:8080/",
     "height": 706
    },
    "colab_type": "code",
    "executionInfo": {
     "elapsed": 829481,
     "status": "ok",
     "timestamp": 1567562323850,
     "user": {
      "displayName": "for horseshit",
      "photoUrl": "",
      "userId": "04801509467754962272"
     },
     "user_tz": -60
    },
    "id": "v70GvIdJv8rm",
    "outputId": "9d5d9c26-f6c7-46c6-e049-5ba3aae85da6"
   },
   "outputs": [
    {
     "name": "stderr",
     "output_type": "stream",
     "text": [
      "\n",
      "Epoch:   0%|          | 0/3 [00:00<?, ?it/s]\u001b[A"
     ]
    },
    {
     "name": "stdout",
     "output_type": "stream",
     "text": [
      "Train loss: 0.6756553649902344\n"
     ]
    },
    {
     "name": "stderr",
     "output_type": "stream",
     "text": [
      "/usr/local/lib/python3.6/dist-packages/ipykernel_launcher.py:119: UserWarning: Implicit dimension choice for softmax has been deprecated. Change the call to include dim=X as an argument.\n",
      "/usr/local/lib/python3.6/dist-packages/sklearn/metrics/classification.py:1437: UndefinedMetricWarning: F-score is ill-defined and being set to 0.0 in labels with no predicted samples.\n",
      "  'precision', 'predicted', average, warn_for)\n",
      "/usr/local/lib/python3.6/dist-packages/sklearn/metrics/classification.py:1437: UndefinedMetricWarning: Precision is ill-defined and being set to 0.0 in labels with no predicted samples.\n",
      "  'precision', 'predicted', average, warn_for)\n",
      "\n",
      "Epoch:  33%|███▎      | 1/3 [04:36<09:12, 276.29s/it]\u001b[A"
     ]
    },
    {
     "name": "stdout",
     "output_type": "stream",
     "text": [
      "Validation loss: 0.5502960085868835\n",
      "Validation Accuracy: 0.8299603174603174\n",
      "F1-Score: [0.79704797 0.25       0.90055249 0.         0.86350975 0.19607843\n",
      " 0.         0.        ]\n",
      "Precision-Score: [0.74482759 0.66666667 0.90555556 0.         0.80310881 0.29411765\n",
      " 0.         0.        ]\n",
      "Recall-Score: [0.85714286 0.15384615 0.8956044  0.         0.93373494 0.14705882\n",
      " 0.         0.        ]\n",
      "Train loss: 0.3356260061264038\n"
     ]
    },
    {
     "name": "stderr",
     "output_type": "stream",
     "text": [
      "\n",
      "Epoch:  67%|██████▋   | 2/3 [09:12<04:36, 276.24s/it]\u001b[A"
     ]
    },
    {
     "name": "stdout",
     "output_type": "stream",
     "text": [
      "Validation loss: 0.7678780555725098\n",
      "Validation Accuracy: 0.853968253968254\n",
      "F1-Score: [0.79166667 0.66666667 0.9132948  0.66666667 0.89398281 0.51515152\n",
      " 0.25       0.        ]\n",
      "Precision-Score: [0.7037037  0.72727273 0.96341463 1.         0.85245902 0.53125\n",
      " 1.         0.        ]\n",
      "Recall-Score: [0.9047619  0.61538462 0.86813187 0.5        0.93975904 0.5\n",
      " 0.14285714 0.        ]\n",
      "Train loss: 0.1576487421989441\n"
     ]
    },
    {
     "name": "stderr",
     "output_type": "stream",
     "text": [
      "\n",
      "Epoch: 100%|██████████| 3/3 [13:48<00:00, 276.10s/it]\u001b[A\n",
      "\u001b[A"
     ]
    },
    {
     "name": "stdout",
     "output_type": "stream",
     "text": [
      "Validation loss: 0.9516106843948364\n",
      "Validation Accuracy: 0.8714285714285714\n",
      "F1-Score: [0.83921569 0.68965517 0.93184979 1.         0.87687688 0.61333333\n",
      " 0.4        0.        ]\n",
      "Precision-Score: [0.82945736 0.625      0.94366197 1.         0.8742515  0.56097561\n",
      " 0.375      0.        ]\n",
      "Recall-Score: [0.84920635 0.76923077 0.92032967 1.         0.87951807 0.67647059\n",
      " 0.42857143 0.        ]\n",
      "train time: 828.1948297023773\n"
     ]
    }
   ],
   "source": [
    "import time\n",
    "start = time.time()\n",
    "\n",
    "val_loss_tt = []\n",
    "val_acc_tt = []\n",
    "train_loss_tt = []\n",
    "f1_score_tt=[]\n",
    "precision_score_tt=[]\n",
    "recall_score_tt=[]\n",
    "auc_score_rr=[]\n",
    "\n",
    "none = []\n",
    "disonly = []\n",
    "PREVENT = []\n",
    "TREAT_FOR_DIS = []\n",
    "TREAT_NO_FOR_DIS= []\n",
    "VAGUE = []\n",
    "SIDE_EFF = []\n",
    "TREATONLY = []\n",
    "\n",
    "\n",
    "CUDA_LAUNCH_BLOCKING=1 \n",
    "train_loss_set = []\n",
    "\n",
    "# Number of training epochs (authors recommend between 2 and 4)\n",
    "epochs = 3\n",
    "\n",
    "# trange is a tqdm wrapper around the normal python range\n",
    "for _ in trange(epochs, desc=\"Epoch\"):\n",
    "  \n",
    "  \n",
    "  # Training\n",
    "  \n",
    "  # Set our model to training mode (as opposed to evaluation mode)\n",
    "  model.train()\n",
    "  \n",
    "  # Tracking variables\n",
    "  tr_loss = 0\n",
    "  nb_tr_examples, nb_tr_steps = 0, 0\n",
    "  \n",
    "  # Train the data for one epoch\n",
    "  for step, batch in enumerate(train_dataloader):\n",
    "    # Add batch to GPU\n",
    "    batch = tuple(t for t in batch)\n",
    "    # Unpack the inputs from our dataloader\n",
    "    b_input_ids, b_input_mask, b_labels = batch\n",
    "\n",
    "    b_labels = b_labels.unsqueeze(-1)\n",
    "    \n",
    "    \n",
    "    b_input_ids = b_input_ids.cuda()\n",
    "    b_input_mask = b_input_mask.cuda()\n",
    "    b_labels = b_labels.cuda()\n",
    "    \n",
    "    \n",
    "    # Clear out the gradients (by default they accumulate)\n",
    "    optimizer.zero_grad()\n",
    "    \n",
    "    # Forward pass\n",
    "\n",
    "    outputs = model(input_ids=b_input_ids, attention_mask=b_input_mask, labels=b_labels)\n",
    "  \n",
    "    #print(outputs)\n",
    "    loss, logits = outputs[:2]\n",
    "    train_loss_set.append(loss)  \n",
    "\n",
    "    # Backward pass\n",
    "    loss.backward()\n",
    "    # Update parameters and take a step using the computed gradient\n",
    "    torch.nn.utils.clip_grad_norm_(model.parameters(), max_grad_norm)  # Gradient clipping is not in AdamW anymore (so you can use amp without issue)\n",
    "    scheduler.step()\n",
    "    optimizer.step()\n",
    "    optimizer.zero_grad()\n",
    "    \n",
    "    \n",
    "    # Update tracking variables\n",
    "    tr_loss += loss\n",
    "    nb_tr_examples += b_input_ids.size(0)\n",
    "    nb_tr_steps += 1\n",
    "\n",
    "  print(\"Train loss: {}\".format(tr_loss/nb_tr_steps))\n",
    "  train_loss_tt.append(tr_loss/nb_tr_steps)\n",
    "    \n",
    "    \n",
    "  # Validation\n",
    "\n",
    "  # Put model in evaluation mode to evaluate loss on the validation set\n",
    "  model.eval()\n",
    "\n",
    "  # Tracking variables \n",
    "  eval_loss2, eval_accuracy2 = 0, 0\n",
    "  nb_eval_steps2, nb_eval_examples2 = 0, 0\n",
    "  predictions , true_labels = [], []\n",
    "\n",
    "  # Evaluate data for one epoch\n",
    "  for batch in val_dataloader:\n",
    "    \n",
    "    # Add batch to GPU\n",
    "    batch = tuple(t for t in batch)\n",
    "    \n",
    "    # Unpack the inputs from our dataloader\n",
    "    b_input_ids, b_input_mask, b_labels = batch\n",
    "    \n",
    "    b_input_ids = b_input_ids.cuda()\n",
    "    b_input_mask = b_input_mask.cuda()\n",
    "    b_labels = b_labels.cuda()\n",
    "    \n",
    "    # Telling the model not to compute or store gradients, saving memory and speeding up validation\n",
    "    with torch.no_grad():\n",
    "      # Forward pass, calculate logit predictions\n",
    "      ot = model(b_input_ids, token_type_ids=None, attention_mask=b_input_mask)\n",
    "      logits = ot[0]\n",
    "      outputs = model(b_input_ids, token_type_ids=None, attention_mask=b_input_mask, labels = b_labels.unsqueeze(-1))\n",
    "      loss = outputs[0]\n",
    "    \n",
    "    # Move logits and labels to CPu\n",
    "    \n",
    "    m = nn.Softmax()\n",
    "    pred = m(logits).to('cpu').detach().numpy()\n",
    "    label_ids = b_labels.to('cpu').numpy()\n",
    "    \n",
    "    predictions.extend([p for p in np.argmax(pred, axis=1)])\n",
    "    true_labels.append(label_ids)\n",
    "    \n",
    "    \n",
    "    tmp_eval_accuracy = flat_accuracy(pred, label_ids)\n",
    "    #print(tmp_eval_accuracy)\n",
    "    \n",
    "    eval_accuracy2 += tmp_eval_accuracy\n",
    "    nb_eval_steps2 += 1\n",
    "    eval_loss2 += loss\n",
    "    \n",
    "\n",
    "  print(\"Validation loss: {}\".format(eval_loss2/nb_eval_steps2))\n",
    "  print(\"Validation Accuracy: {}\".format(eval_accuracy2/nb_eval_steps2))\n",
    "  pred_tags = [tags2vals[p] for p in predictions]\n",
    "  valid_tags = [tags2vals[l_i] for l in true_labels for l_i in l]\n",
    "  \n",
    "  print(\"F1-Score: {}\".format(f1_score(valid_tags, pred_tags, average=None, labels=tags2vals)))\n",
    "  print(\"Precision-Score: {}\".format(precision_score( valid_tags, pred_tags, average=None, labels=tags2vals)))\n",
    "  print(\"Recall-Score: {}\".format(recall_score( valid_tags, pred_tags, average=None, labels=tags2vals)))\n",
    "  #print(\"AUC-Score: {}\".format(roc_auc_score( valid_tags, pred_tags, average=None)))#, labels=tags2vals)))\n",
    "\n",
    "  f1 = f1_score(valid_tags, pred_tags, average=None, labels=tags2vals)\n",
    "  precision = precision_score(valid_tags, pred_tags, average='macro', labels=tags2vals)\n",
    "  recall = recall_score(valid_tags, pred_tags, average='macro', labels=tags2vals)\n",
    "  #acu = roc_auc_score(valid_tags, pred_tags, average='macro')#, labels=tags2vals)\n",
    "\n",
    "\n",
    "  val_loss_tt.append(eval_loss2/nb_eval_steps2)\n",
    "  val_acc_tt.append(eval_accuracy2/nb_eval_steps2)\n",
    "  f1_score_tt.append(sum(f1)/len(f1))\n",
    "  precision_score_tt.append(precision)\n",
    "  recall_score_tt.append(recall)\n",
    "  #auc_score_tt.append(auc)\n",
    "\n",
    "  none.append(f1[0])\n",
    "  disonly.append(f1[1])\n",
    "  PREVENT.append(f1[2])\n",
    "  TREAT_FOR_DIS.append(f1[3])\n",
    "  TREAT_NO_FOR_DIS.append(f1[4])\n",
    "  VAGUE.append(f1[5])\n",
    "  SIDE_EFF.append(f1[6])\n",
    "  TREATONLY.append(f1[7])\n",
    "\n",
    "end = time.time()\n",
    "print('train time:', end - start)\n",
    " "
   ]
  },
  {
   "cell_type": "code",
   "execution_count": 48,
   "metadata": {
    "colab": {
     "base_uri": "https://localhost:8080/",
     "height": 178
    },
    "colab_type": "code",
    "executionInfo": {
     "elapsed": 877,
     "status": "ok",
     "timestamp": 1567562391533,
     "user": {
      "displayName": "for horseshit",
      "photoUrl": "",
      "userId": "04801509467754962272"
     },
     "user_tz": -60
    },
    "id": "Ms6ANdOIVC11",
    "outputId": "d84ef602-b507-48eb-bc00-5969fe59024d"
   },
   "outputs": [
    {
     "data": {
      "text/plain": [
       "['DISONLY',\n",
       " 'PREVENT',\n",
       " 'NONE',\n",
       " 'TREAT_NO_FOR_DIS',\n",
       " 'TREAT_FOR_DIS',\n",
       " 'TREATONLY',\n",
       " 'VAGUE',\n",
       " 'SIDE_EFF']"
      ]
     },
     "execution_count": 48,
     "metadata": {
      "tags": []
     },
     "output_type": "execute_result"
    }
   ],
   "source": [
    "tags2vals"
   ]
  },
  {
   "cell_type": "code",
   "execution_count": 49,
   "metadata": {
    "colab": {
     "base_uri": "https://localhost:8080/",
     "height": 437
    },
    "colab_type": "code",
    "executionInfo": {
     "elapsed": 948,
     "status": "ok",
     "timestamp": 1567562392060,
     "user": {
      "displayName": "for horseshit",
      "photoUrl": "",
      "userId": "04801509467754962272"
     },
     "user_tz": -60
    },
    "id": "H5QtphJ2n1Iv",
    "outputId": "415d825b-7192-4205-9165-eb5afe7c74f3"
   },
   "outputs": [
    {
     "data": {
      "text/plain": [
       "Text(0.5, 0, 'epochs')"
      ]
     },
     "execution_count": 49,
     "metadata": {
      "tags": []
     },
     "output_type": "execute_result"
    },
    {
     "data": {
      "image/png": "[encoded data removed]",
      "text/plain": [
       "<Figure size 576x432 with 1 Axes>"
      ]
     },
     "metadata": {
      "tags": []
     },
     "output_type": "display_data"
    }
   ],
   "source": [
    "import matplotlib.pyplot as plt\n",
    "import matplotlib.pylab as pylab\n",
    "params = {'legend.fontsize': 'medium',\n",
    "          'figure.figsize': (8, 6),\n",
    "         'axes.labelsize': 'x-large',\n",
    "         'axes.titlesize':'x-large',\n",
    "         'xtick.labelsize':'x-large',\n",
    "         'ytick.labelsize':'x-large'}\n",
    "pylab.rcParams.update(params)\n",
    "\n",
    "plt.plot(range(epochs), val_loss_tt, label='val_loss')\n",
    "plt.plot(range(epochs), val_acc_tt, label='val_acc')\n",
    "plt.plot(range(epochs), train_loss_tt, label='train_loss')\n",
    "plt.plot(range(epochs), f1_score_tt, label='f1_score_avg')\n",
    "plt.legend()\n",
    "plt.xlabel('epochs')\n",
    "#plt.savefig('/content/drive/My Drive/sig/SIG_fine_tune33.png', dpi=500)"
   ]
  },
  {
   "cell_type": "code",
   "execution_count": 53,
   "metadata": {
    "colab": {
     "base_uri": "https://localhost:8080/",
     "height": 437
    },
    "colab_type": "code",
    "executionInfo": {
     "elapsed": 1501,
     "status": "ok",
     "timestamp": 1567562403068,
     "user": {
      "displayName": "for horseshit",
      "photoUrl": "",
      "userId": "04801509467754962272"
     },
     "user_tz": -60
    },
    "id": "DP5rTg2z3ie0",
    "outputId": "8ec0f6c0-a8c0-4f4d-a332-d78f0930c5cd"
   },
   "outputs": [
    {
     "data": {
      "text/plain": [
       "Text(0, 0.5, 'f1 score')"
      ]
     },
     "execution_count": 53,
     "metadata": {
      "tags": []
     },
     "output_type": "execute_result"
    },
    {
     "data": {
      "image/png": "[encoded data removed]",
      "text/plain": [
       "<Figure size 576x432 with 1 Axes>"
      ]
     },
     "metadata": {
      "tags": []
     },
     "output_type": "display_data"
    }
   ],
   "source": [
    "import matplotlib.pyplot as plt\n",
    "plt.plot(range(epochs), none, label='TREATONLY')\n",
    "plt.plot(range(epochs), disonly, label='DISONLY')\n",
    "plt.plot(range(epochs), PREVENT, label='NONE')\n",
    "plt.plot(range(epochs), TREAT_FOR_DIS, label='PREVENT')\n",
    "plt.plot(range(epochs), TREAT_NO_FOR_DIS, label='SIDE_EFF')\n",
    "plt.plot(range(epochs), VAGUE, label='TREATONLY')\n",
    "plt.plot(range(epochs), SIDE_EFF, label='VAGUE')\n",
    "plt.plot(range(epochs), TREATONLY, label='TREAT_NO_FOR_DIS')\n",
    "plt.legend(loc = 'lower right')\n",
    "plt.xlabel('epoches')\n",
    "plt.ylabel('f1 score')\n",
    "#plt.savefig('/content/drive/My Drive/sig/SIG_fine_tune3.png', dpi=500)"
   ]
  },
  {
   "cell_type": "code",
   "execution_count": 51,
   "metadata": {
    "colab": {
     "base_uri": "https://localhost:8080/",
     "height": 584
    },
    "colab_type": "code",
    "executionInfo": {
     "elapsed": 8193,
     "status": "ok",
     "timestamp": 1567562401545,
     "user": {
      "displayName": "for horseshit",
      "photoUrl": "",
      "userId": "04801509467754962272"
     },
     "user_tz": -60
    },
    "id": "ZY1GXx96b3JR",
    "outputId": "95bf5aca-1dd2-40fe-aac2-c911c723e6da"
   },
   "outputs": [
    {
     "data": {
      "image/png": "[encoded data removed]",
      "text/plain": [
       "<Figure size 1080x576 with 1 Axes>"
      ]
     },
     "metadata": {
      "tags": []
     },
     "output_type": "display_data"
    },
    {
     "data": {
      "text/plain": [
       "<Figure size 576x432 with 0 Axes>"
      ]
     },
     "metadata": {
      "tags": []
     },
     "output_type": "display_data"
    }
   ],
   "source": [
    "plt.figure(figsize=(15,8))\n",
    "plt.title(\"Training loss\")\n",
    "plt.xlabel(\"Batch\")\n",
    "plt.ylabel(\"Loss\")\n",
    "plt.plot(train_loss_set)\n",
    "plt.show()\n",
    "plt.savefig('/content/drive/My Drive/train-loss.png', dpi=1000)\n"
   ]
  },
  {
   "cell_type": "code",
   "execution_count": 52,
   "metadata": {
    "colab": {
     "base_uri": "https://localhost:8080/",
     "height": 108
    },
    "colab_type": "code",
    "executionInfo": {
     "elapsed": 645,
     "status": "ok",
     "timestamp": 1567562402202,
     "user": {
      "displayName": "for horseshit",
      "photoUrl": "",
      "userId": "04801509467754962272"
     },
     "user_tz": -60
    },
    "id": "meEnmhtTfKXr",
    "outputId": "dfafb394-a0a4-47bc-f1d4-ea23c6b54284"
   },
   "outputs": [
    {
     "name": "stdout",
     "output_type": "stream",
     "text": [
      "accuracy 0.8714285714285714\n",
      "f1 0.6688663575344282\n",
      "recall 0.6904158597328335\n",
      "precision 0.6510433053667697\n"
     ]
    }
   ],
   "source": [
    "n=-1\n",
    "\n",
    "print('accuracy', val_acc_tt[n])\n",
    "print('f1', f1_score_tt[n])\n",
    "print('recall', recall_score_tt[n])\n",
    "print('precision', precision_score_tt[n])"
   ]
  },
  {
   "cell_type": "code",
   "execution_count": 0,
   "metadata": {
    "colab": {},
    "colab_type": "code",
    "id": "s6_QZecpz0kk"
   },
   "outputs": [],
   "source": [
    "train_loss_tt[-1]"
   ]
  },
  {
   "cell_type": "code",
   "execution_count": 0,
   "metadata": {
    "colab": {},
    "colab_type": "code",
    "id": "4bRCCrxAUHu7"
   },
   "outputs": [],
   "source": []
  }
 ],
 "metadata": {
  "accelerator": "GPU",
  "colab": {
   "collapsed_sections": [],
   "machine_shape": "hm",
   "name": "truncate_SIG+BertSentence.ipynb",
   "provenance": [
    {
     "file_id": "1DwpZlflzWFXZegnwqX5dUPnU3f0udX0Q",
     "timestamp": 1566251789021
    }
   ],
   "version": "0.3.2"
  },
  "kernelspec": {
   "display_name": "Python 3",
   "language": "python",
   "name": "python3"
  },
  "language_info": {
   "codemirror_mode": {
    "name": "ipython",
    "version": 3
   },
   "file_extension": ".py",
   "mimetype": "text/x-python",
   "name": "python",
   "nbconvert_exporter": "python",
   "pygments_lexer": "ipython3",
   "version": "3.7.3"
  }
 },
 "nbformat": 4,
 "nbformat_minor": 1
}
