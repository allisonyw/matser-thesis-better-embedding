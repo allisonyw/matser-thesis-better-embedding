{
 "cells": [
  {
   "cell_type": "markdown",
   "metadata": {
    "colab_type": "text",
    "id": "A-rvo137q0gV"
   },
   "source": [
    "# Prelim"
   ]
  },
  {
   "cell_type": "code",
   "execution_count": null,
   "metadata": {},
   "outputs": [],
   "source": [
    "!pip install pytorch-transformers"
   ]
  },
  {
   "cell_type": "code",
   "execution_count": 0,
   "metadata": {
    "colab": {},
    "colab_type": "code",
    "id": "lAIGzxmEqyQp"
   },
   "outputs": [],
   "source": [
    "import logging\n",
    "\n",
    "import pandas as pd\n",
    "import numpy as np\n",
    "import random\n",
    "from sklearn.model_selection import train_test_split\n",
    "from sklearn.metrics import f1_score, precision_score, recall_score\n",
    "from tqdm import tqdm, trange\n",
    "\n",
    "import torch\n",
    "from torch import nn\n",
    "from torch.autograd import Variable\n",
    "import torch.nn.functional as F\n",
    "from sklearn.model_selection import train_test_split\n",
    "from torch.nn.utils.rnn import pad_sequence\n",
    "from torch.utils.data import TensorDataset, DataLoader, RandomSampler, SequentialSampler\n",
    "from torch import optim\n",
    "import torchtext\n",
    "\n",
    "from pytorch_transformers import *\n",
    "from pytorch_transformers import BertTokenizer, BertConfig\n"
   ]
  },
  {
   "cell_type": "code",
   "execution_count": 0,
   "metadata": {
    "colab": {
     "base_uri": "https://localhost:8080/",
     "height": 96
    },
    "colab_type": "code",
    "id": "_8jDnslb-pVZ",
    "outputId": "6a6aac12-58b0-469e-eba6-f3a75492612d"
   },
   "outputs": [
    {
     "name": "stdout",
     "output_type": "stream",
     "text": [
      "Found GPU at: /device:GPU:0\n"
     ]
    },
    {
     "data": {
      "text/plain": [
       "'Tesla K80'"
      ]
     },
     "execution_count": 3,
     "metadata": {
      "tags": []
     },
     "output_type": "execute_result"
    }
   ],
   "source": [
    "import os\n",
    "os.environ['CUDA_VISBLE_DEVICES'] = '0'\n",
    "use_cude = True\n",
    "\n",
    "import tensorflow as tf\n",
    "\n",
    "device_name = tf.test.gpu_device_name()\n",
    "if device_name != '/device:GPU:0':\n",
    "  raise SystemError('GPU device not found')\n",
    "print('Found GPU at: {}'.format(device_name))\n",
    "\n",
    "device = torch.device(\"cuda\" if torch.cuda.is_available() else \"cpu\")\n",
    "n_gpu = torch.cuda.device_count()\n",
    "torch.cuda.get_device_name(0)"
   ]
  },
  {
   "cell_type": "code",
   "execution_count": 0,
   "metadata": {
    "colab": {
     "base_uri": "https://localhost:8080/",
     "height": 76
    },
    "colab_type": "code",
    "id": "B-Vpo6Jpqt4I",
    "outputId": "050bce71-33d7-4620-eec0-47bdf97ef108"
   },
   "outputs": [
    {
     "name": "stdout",
     "output_type": "stream",
     "text": [
      "Drive already mounted at /content/drive; to attempt to forcibly remount, call drive.mount(\"/content/drive\", force_remount=True).\n"
     ]
    }
   ],
   "source": [
    "from google.colab import drive\n",
    "drive.mount('/content/drive')"
   ]
  },
  {
   "cell_type": "markdown",
   "metadata": {
    "colab_type": "text",
    "id": "cDxFoJ3Wq7ly"
   },
   "source": [
    "# load data"
   ]
  },
  {
   "cell_type": "code",
   "execution_count": 0,
   "metadata": {
    "colab": {},
    "colab_type": "code",
    "id": "3zQr4fwKq9zl"
   },
   "outputs": [],
   "source": [
    "data = pd.read_csv(r\"/content/drive/My Drive/berkeley/no-complex-oversample.txt\", header = None)\n"
   ]
  },
  {
   "cell_type": "code",
   "execution_count": 0,
   "metadata": {
    "colab": {},
    "colab_type": "code",
    "id": "thez2joErLJ5"
   },
   "outputs": [],
   "source": [
    "from ast import literal_eval\n",
    "sentence_list = data[0][1:].values.tolist()\n",
    "sentence_list = [\"[CLS] \" + sentence + \" [SEP]\" for sentence in sentence_list]\n",
    "\n",
    "\n",
    "tag = data[2][1:].values.tolist()\n",
    "\n"
   ]
  },
  {
   "cell_type": "code",
   "execution_count": 0,
   "metadata": {
    "colab": {
     "base_uri": "https://localhost:8080/",
     "height": 92
    },
    "colab_type": "code",
    "id": "7dJzmG7SXBHi",
    "outputId": "bd867a77-d6ca-4bc7-a8d2-fa69b3bb5321"
   },
   "outputs": [
    {
     "name": "stdout",
     "output_type": "stream",
     "text": [
      "{'TREAT_NO_FOR_DIS': 0, 'DISONLY': 1, 'TREATONLY': 2, 'PREVENT': 3, 'NONE': 4, 'SIDE_EFF': 5, 'VAGUE': 6, 'TREAT_FOR_DIS': 7}\n",
      "[4.0, 629.0, 169.0, 63.0, 1818.0, 30.0, 37.0, 830.0]\n"
     ]
    }
   ],
   "source": [
    "tags2vals = list(set(tag))\n",
    "tag2idx = {t: i for i, t in enumerate(tags2vals)}\n",
    "print(tag2idx)\n",
    "\n",
    "weight_dic={'NONE':1818, 'TREAT_FOR_DIS':830, 'DISONLY':629, 'TREATONLY':169, 'PREVENT':63, 'SIDE_EFF':30, 'VAGUE':37, 'TREAT_NO_FOR_DIS':4 }\n",
    "weight_list=[]\n",
    "for i, t in enumerate(tags2vals):\n",
    "  weight_list.append(float(weight_dic.get(t)))\n",
    "print(weight_list)"
   ]
  },
  {
   "cell_type": "markdown",
   "metadata": {
    "colab_type": "text",
    "id": "Omf-AgzEaYAX"
   },
   "source": [
    "# BERT"
   ]
  },
  {
   "cell_type": "code",
   "execution_count": 0,
   "metadata": {
    "colab": {
     "base_uri": "https://localhost:8080/",
     "height": 1000
    },
    "colab_type": "code",
    "id": "YU-5grssRwYG",
    "outputId": "9207fa98-dd4f-4ea1-fe85-2c909f4fe7a7"
   },
   "outputs": [
    {
     "data": {
      "text/plain": [
       "BertForSequenceClassification(\n",
       "  (bert): BertModel(\n",
       "    (embeddings): BertEmbeddings(\n",
       "      (word_embeddings): Embedding(30522, 768, padding_idx=0)\n",
       "      (position_embeddings): Embedding(512, 768)\n",
       "      (token_type_embeddings): Embedding(2, 768)\n",
       "      (LayerNorm): BertLayerNorm()\n",
       "      (dropout): Dropout(p=0.1)\n",
       "    )\n",
       "    (encoder): BertEncoder(\n",
       "      (layer): ModuleList(\n",
       "        (0): BertLayer(\n",
       "          (attention): BertAttention(\n",
       "            (self): BertSelfAttention(\n",
       "              (query): Linear(in_features=768, out_features=768, bias=True)\n",
       "              (key): Linear(in_features=768, out_features=768, bias=True)\n",
       "              (value): Linear(in_features=768, out_features=768, bias=True)\n",
       "              (dropout): Dropout(p=0.1)\n",
       "            )\n",
       "            (output): BertSelfOutput(\n",
       "              (dense): Linear(in_features=768, out_features=768, bias=True)\n",
       "              (LayerNorm): BertLayerNorm()\n",
       "              (dropout): Dropout(p=0.1)\n",
       "            )\n",
       "          )\n",
       "          (intermediate): BertIntermediate(\n",
       "            (dense): Linear(in_features=768, out_features=3072, bias=True)\n",
       "          )\n",
       "          (output): BertOutput(\n",
       "            (dense): Linear(in_features=3072, out_features=768, bias=True)\n",
       "            (LayerNorm): BertLayerNorm()\n",
       "            (dropout): Dropout(p=0.1)\n",
       "          )\n",
       "        )\n",
       "        (1): BertLayer(\n",
       "          (attention): BertAttention(\n",
       "            (self): BertSelfAttention(\n",
       "              (query): Linear(in_features=768, out_features=768, bias=True)\n",
       "              (key): Linear(in_features=768, out_features=768, bias=True)\n",
       "              (value): Linear(in_features=768, out_features=768, bias=True)\n",
       "              (dropout): Dropout(p=0.1)\n",
       "            )\n",
       "            (output): BertSelfOutput(\n",
       "              (dense): Linear(in_features=768, out_features=768, bias=True)\n",
       "              (LayerNorm): BertLayerNorm()\n",
       "              (dropout): Dropout(p=0.1)\n",
       "            )\n",
       "          )\n",
       "          (intermediate): BertIntermediate(\n",
       "            (dense): Linear(in_features=768, out_features=3072, bias=True)\n",
       "          )\n",
       "          (output): BertOutput(\n",
       "            (dense): Linear(in_features=3072, out_features=768, bias=True)\n",
       "            (LayerNorm): BertLayerNorm()\n",
       "            (dropout): Dropout(p=0.1)\n",
       "          )\n",
       "        )\n",
       "        (2): BertLayer(\n",
       "          (attention): BertAttention(\n",
       "            (self): BertSelfAttention(\n",
       "              (query): Linear(in_features=768, out_features=768, bias=True)\n",
       "              (key): Linear(in_features=768, out_features=768, bias=True)\n",
       "              (value): Linear(in_features=768, out_features=768, bias=True)\n",
       "              (dropout): Dropout(p=0.1)\n",
       "            )\n",
       "            (output): BertSelfOutput(\n",
       "              (dense): Linear(in_features=768, out_features=768, bias=True)\n",
       "              (LayerNorm): BertLayerNorm()\n",
       "              (dropout): Dropout(p=0.1)\n",
       "            )\n",
       "          )\n",
       "          (intermediate): BertIntermediate(\n",
       "            (dense): Linear(in_features=768, out_features=3072, bias=True)\n",
       "          )\n",
       "          (output): BertOutput(\n",
       "            (dense): Linear(in_features=3072, out_features=768, bias=True)\n",
       "            (LayerNorm): BertLayerNorm()\n",
       "            (dropout): Dropout(p=0.1)\n",
       "          )\n",
       "        )\n",
       "        (3): BertLayer(\n",
       "          (attention): BertAttention(\n",
       "            (self): BertSelfAttention(\n",
       "              (query): Linear(in_features=768, out_features=768, bias=True)\n",
       "              (key): Linear(in_features=768, out_features=768, bias=True)\n",
       "              (value): Linear(in_features=768, out_features=768, bias=True)\n",
       "              (dropout): Dropout(p=0.1)\n",
       "            )\n",
       "            (output): BertSelfOutput(\n",
       "              (dense): Linear(in_features=768, out_features=768, bias=True)\n",
       "              (LayerNorm): BertLayerNorm()\n",
       "              (dropout): Dropout(p=0.1)\n",
       "            )\n",
       "          )\n",
       "          (intermediate): BertIntermediate(\n",
       "            (dense): Linear(in_features=768, out_features=3072, bias=True)\n",
       "          )\n",
       "          (output): BertOutput(\n",
       "            (dense): Linear(in_features=3072, out_features=768, bias=True)\n",
       "            (LayerNorm): BertLayerNorm()\n",
       "            (dropout): Dropout(p=0.1)\n",
       "          )\n",
       "        )\n",
       "        (4): BertLayer(\n",
       "          (attention): BertAttention(\n",
       "            (self): BertSelfAttention(\n",
       "              (query): Linear(in_features=768, out_features=768, bias=True)\n",
       "              (key): Linear(in_features=768, out_features=768, bias=True)\n",
       "              (value): Linear(in_features=768, out_features=768, bias=True)\n",
       "              (dropout): Dropout(p=0.1)\n",
       "            )\n",
       "            (output): BertSelfOutput(\n",
       "              (dense): Linear(in_features=768, out_features=768, bias=True)\n",
       "              (LayerNorm): BertLayerNorm()\n",
       "              (dropout): Dropout(p=0.1)\n",
       "            )\n",
       "          )\n",
       "          (intermediate): BertIntermediate(\n",
       "            (dense): Linear(in_features=768, out_features=3072, bias=True)\n",
       "          )\n",
       "          (output): BertOutput(\n",
       "            (dense): Linear(in_features=3072, out_features=768, bias=True)\n",
       "            (LayerNorm): BertLayerNorm()\n",
       "            (dropout): Dropout(p=0.1)\n",
       "          )\n",
       "        )\n",
       "        (5): BertLayer(\n",
       "          (attention): BertAttention(\n",
       "            (self): BertSelfAttention(\n",
       "              (query): Linear(in_features=768, out_features=768, bias=True)\n",
       "              (key): Linear(in_features=768, out_features=768, bias=True)\n",
       "              (value): Linear(in_features=768, out_features=768, bias=True)\n",
       "              (dropout): Dropout(p=0.1)\n",
       "            )\n",
       "            (output): BertSelfOutput(\n",
       "              (dense): Linear(in_features=768, out_features=768, bias=True)\n",
       "              (LayerNorm): BertLayerNorm()\n",
       "              (dropout): Dropout(p=0.1)\n",
       "            )\n",
       "          )\n",
       "          (intermediate): BertIntermediate(\n",
       "            (dense): Linear(in_features=768, out_features=3072, bias=True)\n",
       "          )\n",
       "          (output): BertOutput(\n",
       "            (dense): Linear(in_features=3072, out_features=768, bias=True)\n",
       "            (LayerNorm): BertLayerNorm()\n",
       "            (dropout): Dropout(p=0.1)\n",
       "          )\n",
       "        )\n",
       "        (6): BertLayer(\n",
       "          (attention): BertAttention(\n",
       "            (self): BertSelfAttention(\n",
       "              (query): Linear(in_features=768, out_features=768, bias=True)\n",
       "              (key): Linear(in_features=768, out_features=768, bias=True)\n",
       "              (value): Linear(in_features=768, out_features=768, bias=True)\n",
       "              (dropout): Dropout(p=0.1)\n",
       "            )\n",
       "            (output): BertSelfOutput(\n",
       "              (dense): Linear(in_features=768, out_features=768, bias=True)\n",
       "              (LayerNorm): BertLayerNorm()\n",
       "              (dropout): Dropout(p=0.1)\n",
       "            )\n",
       "          )\n",
       "          (intermediate): BertIntermediate(\n",
       "            (dense): Linear(in_features=768, out_features=3072, bias=True)\n",
       "          )\n",
       "          (output): BertOutput(\n",
       "            (dense): Linear(in_features=3072, out_features=768, bias=True)\n",
       "            (LayerNorm): BertLayerNorm()\n",
       "            (dropout): Dropout(p=0.1)\n",
       "          )\n",
       "        )\n",
       "        (7): BertLayer(\n",
       "          (attention): BertAttention(\n",
       "            (self): BertSelfAttention(\n",
       "              (query): Linear(in_features=768, out_features=768, bias=True)\n",
       "              (key): Linear(in_features=768, out_features=768, bias=True)\n",
       "              (value): Linear(in_features=768, out_features=768, bias=True)\n",
       "              (dropout): Dropout(p=0.1)\n",
       "            )\n",
       "            (output): BertSelfOutput(\n",
       "              (dense): Linear(in_features=768, out_features=768, bias=True)\n",
       "              (LayerNorm): BertLayerNorm()\n",
       "              (dropout): Dropout(p=0.1)\n",
       "            )\n",
       "          )\n",
       "          (intermediate): BertIntermediate(\n",
       "            (dense): Linear(in_features=768, out_features=3072, bias=True)\n",
       "          )\n",
       "          (output): BertOutput(\n",
       "            (dense): Linear(in_features=3072, out_features=768, bias=True)\n",
       "            (LayerNorm): BertLayerNorm()\n",
       "            (dropout): Dropout(p=0.1)\n",
       "          )\n",
       "        )\n",
       "        (8): BertLayer(\n",
       "          (attention): BertAttention(\n",
       "            (self): BertSelfAttention(\n",
       "              (query): Linear(in_features=768, out_features=768, bias=True)\n",
       "              (key): Linear(in_features=768, out_features=768, bias=True)\n",
       "              (value): Linear(in_features=768, out_features=768, bias=True)\n",
       "              (dropout): Dropout(p=0.1)\n",
       "            )\n",
       "            (output): BertSelfOutput(\n",
       "              (dense): Linear(in_features=768, out_features=768, bias=True)\n",
       "              (LayerNorm): BertLayerNorm()\n",
       "              (dropout): Dropout(p=0.1)\n",
       "            )\n",
       "          )\n",
       "          (intermediate): BertIntermediate(\n",
       "            (dense): Linear(in_features=768, out_features=3072, bias=True)\n",
       "          )\n",
       "          (output): BertOutput(\n",
       "            (dense): Linear(in_features=3072, out_features=768, bias=True)\n",
       "            (LayerNorm): BertLayerNorm()\n",
       "            (dropout): Dropout(p=0.1)\n",
       "          )\n",
       "        )\n",
       "        (9): BertLayer(\n",
       "          (attention): BertAttention(\n",
       "            (self): BertSelfAttention(\n",
       "              (query): Linear(in_features=768, out_features=768, bias=True)\n",
       "              (key): Linear(in_features=768, out_features=768, bias=True)\n",
       "              (value): Linear(in_features=768, out_features=768, bias=True)\n",
       "              (dropout): Dropout(p=0.1)\n",
       "            )\n",
       "            (output): BertSelfOutput(\n",
       "              (dense): Linear(in_features=768, out_features=768, bias=True)\n",
       "              (LayerNorm): BertLayerNorm()\n",
       "              (dropout): Dropout(p=0.1)\n",
       "            )\n",
       "          )\n",
       "          (intermediate): BertIntermediate(\n",
       "            (dense): Linear(in_features=768, out_features=3072, bias=True)\n",
       "          )\n",
       "          (output): BertOutput(\n",
       "            (dense): Linear(in_features=3072, out_features=768, bias=True)\n",
       "            (LayerNorm): BertLayerNorm()\n",
       "            (dropout): Dropout(p=0.1)\n",
       "          )\n",
       "        )\n",
       "        (10): BertLayer(\n",
       "          (attention): BertAttention(\n",
       "            (self): BertSelfAttention(\n",
       "              (query): Linear(in_features=768, out_features=768, bias=True)\n",
       "              (key): Linear(in_features=768, out_features=768, bias=True)\n",
       "              (value): Linear(in_features=768, out_features=768, bias=True)\n",
       "              (dropout): Dropout(p=0.1)\n",
       "            )\n",
       "            (output): BertSelfOutput(\n",
       "              (dense): Linear(in_features=768, out_features=768, bias=True)\n",
       "              (LayerNorm): BertLayerNorm()\n",
       "              (dropout): Dropout(p=0.1)\n",
       "            )\n",
       "          )\n",
       "          (intermediate): BertIntermediate(\n",
       "            (dense): Linear(in_features=768, out_features=3072, bias=True)\n",
       "          )\n",
       "          (output): BertOutput(\n",
       "            (dense): Linear(in_features=3072, out_features=768, bias=True)\n",
       "            (LayerNorm): BertLayerNorm()\n",
       "            (dropout): Dropout(p=0.1)\n",
       "          )\n",
       "        )\n",
       "        (11): BertLayer(\n",
       "          (attention): BertAttention(\n",
       "            (self): BertSelfAttention(\n",
       "              (query): Linear(in_features=768, out_features=768, bias=True)\n",
       "              (key): Linear(in_features=768, out_features=768, bias=True)\n",
       "              (value): Linear(in_features=768, out_features=768, bias=True)\n",
       "              (dropout): Dropout(p=0.1)\n",
       "            )\n",
       "            (output): BertSelfOutput(\n",
       "              (dense): Linear(in_features=768, out_features=768, bias=True)\n",
       "              (LayerNorm): BertLayerNorm()\n",
       "              (dropout): Dropout(p=0.1)\n",
       "            )\n",
       "          )\n",
       "          (intermediate): BertIntermediate(\n",
       "            (dense): Linear(in_features=768, out_features=3072, bias=True)\n",
       "          )\n",
       "          (output): BertOutput(\n",
       "            (dense): Linear(in_features=3072, out_features=768, bias=True)\n",
       "            (LayerNorm): BertLayerNorm()\n",
       "            (dropout): Dropout(p=0.1)\n",
       "          )\n",
       "        )\n",
       "      )\n",
       "    )\n",
       "    (pooler): BertPooler(\n",
       "      (dense): Linear(in_features=768, out_features=768, bias=True)\n",
       "      (activation): Tanh()\n",
       "    )\n",
       "  )\n",
       "  (dropout): Dropout(p=0.1)\n",
       "  (classifier): Linear(in_features=768, out_features=8, bias=True)\n",
       ")"
      ]
     },
     "execution_count": 8,
     "metadata": {
      "tags": []
     },
     "output_type": "execute_result"
    }
   ],
   "source": [
    "tokenizer = BertTokenizer.from_pretrained('bert-base-uncased')\n",
    "model = BertForSequenceClassification.from_pretrained('bert-base-uncased', num_labels=8)\n",
    "model.cuda()"
   ]
  },
  {
   "cell_type": "code",
   "execution_count": 0,
   "metadata": {
    "colab": {
     "base_uri": "https://localhost:8080/",
     "height": 96
    },
    "colab_type": "code",
    "id": "_gnoD_6uX2C3",
    "outputId": "f081109d-6ae6-4749-bb20-768f423f4527"
   },
   "outputs": [
    {
     "name": "stdout",
     "output_type": "stream",
     "text": [
      "['[CLS]', 'all', 'live', 'births', '>', 'or', '=', '23', 'weeks', 'at', 'the', 'university', 'of', 'vermont', 'in', '1995', '(', 'n', '=', '239', '##5', ')', 'were', 'retrospective', '##ly', 'analyzed', 'for', 'delivery', 'route', ',', 'indication', 'for', 'cesare', '##an', ',', 'ge', '##station', '##al', 'age', ',', 'par', '##ity', ',', 'and', 'practice', 'group', '(', 'to', 'reflect', 'risk', 'status', ')', '.', '[SEP]']\n"
     ]
    }
   ],
   "source": [
    "tokenized_texts = [tokenizer.tokenize(sent) for sent in sentence_list]\n",
    "print(tokenized_texts[0])"
   ]
  },
  {
   "cell_type": "code",
   "execution_count": 0,
   "metadata": {
    "colab": {
     "base_uri": "https://localhost:8080/",
     "height": 76
    },
    "colab_type": "code",
    "id": "Y_3D9_1ycThA",
    "outputId": "aead7334-0e61-49c9-bc66-44c7e1535e57"
   },
   "outputs": [
    {
     "data": {
      "text/plain": [
       "188"
      ]
     },
     "execution_count": 10,
     "metadata": {
      "tags": []
     },
     "output_type": "execute_result"
    }
   ],
   "source": [
    "input_ids = [torch.tensor(tokenizer.convert_tokens_to_ids(x)) for x in tokenized_texts]\n",
    "\n",
    "input_ids = pad_sequence(input_ids, batch_first=True).detach().numpy()\n",
    "\n",
    "label = [tag2idx.get(l) for l in tag]\n"
   ]
  },
  {
   "cell_type": "code",
   "execution_count": 0,
   "metadata": {
    "colab": {},
    "colab_type": "code",
    "id": "MvM5iFhxfIDH"
   },
   "outputs": [],
   "source": [
    "# Create attention masks\n",
    "attention_masks = []\n",
    "\n",
    "# Create a mask of 1s for each token followed by 0s for padding\n",
    "for seq in input_ids:\n",
    "  seq_mask = [float(i>0) for i in seq]\n",
    "  attention_masks.append(seq_mask) \n",
    "\n",
    "# Use train_test_split to split our data into train and validation sets for training\n",
    "\n",
    "train_inputs, val_inputs, train_labels, val_labels = train_test_split(input_ids, label, stratify = label,\n",
    "                                                            random_state=2018, test_size=0.2)\n",
    "\n",
    "train_masks, val_masks, _, _ = train_test_split(attention_masks, input_ids, stratify = label,\n",
    "                                             random_state=2018, test_size=0.2)\n",
    "\n",
    "# train_masks, val_masks, _, _ = train_test_split(train_masks, train_inputs,\n",
    "#                                              random_state=2018, test_size=0.1)\n",
    "\n",
    "# train_inputs, val_inputs, train_labels, val_labels = train_test_split(train_inputs, train_labels, \n",
    "#                                                             random_state=2018, test_size=0.1)\n",
    "\n",
    "\n",
    "# from imblearn.over_sampling import SMOTE\n",
    "\n",
    "# smote = SMOTE('not majority', random_state=2018)\n",
    "# train_masks, _ = smote.fit_resample(train_masks, train_labels)\n",
    "# train_inputs, train_labels = smote.fit_resample(train_inputs, train_labels)\n",
    "\n",
    "# from collections import Counter\n",
    "# tr_tags = [tags2vals[p] for p in train_labels]\n",
    "# Counter(tr_tags)\n"
   ]
  },
  {
   "cell_type": "code",
   "execution_count": 0,
   "metadata": {
    "colab": {},
    "colab_type": "code",
    "id": "6wY-I8192QHQ"
   },
   "outputs": [],
   "source": [
    "train_inputs = torch.tensor(train_inputs)\n",
    "val_inputs = torch.tensor(val_inputs)\n",
    "train_labels = torch.tensor(train_labels)\n",
    "val_labels = torch.tensor(val_labels)\n",
    "train_masks = torch.tensor(train_masks)\n",
    "val_masks = torch.tensor(val_masks)"
   ]
  },
  {
   "cell_type": "code",
   "execution_count": 0,
   "metadata": {
    "colab": {
     "base_uri": "https://localhost:8080/",
     "height": 164
    },
    "colab_type": "code",
    "id": "_aGhZ5fxGS8Y",
    "outputId": "7d286778-c988-403b-fa1e-c715b3fbc79c"
   },
   "outputs": [
    {
     "name": "stdout",
     "output_type": "stream",
     "text": [
      "torch.Size([2870, 188])\n",
      "torch.Size([2870])\n",
      "torch.Size([2870, 188])\n",
      "torch.Size([718, 188])\n",
      "torch.Size([718])\n",
      "torch.Size([718, 188])\n"
     ]
    }
   ],
   "source": [
    "print(train_inputs.size())\n",
    "print(train_labels.size())\n",
    "print(train_masks.size())\n",
    "\n",
    "print(val_inputs.size())\n",
    "print(val_labels.size())\n",
    "print(val_masks.size())"
   ]
  },
  {
   "cell_type": "code",
   "execution_count": 0,
   "metadata": {
    "colab": {},
    "colab_type": "code",
    "id": "g-Nlty0_pYAc"
   },
   "outputs": [],
   "source": [
    "# Create an iterator of our data with torch DataLoader. This helps save on memory during training because, unlike a for loop, \n",
    "# with an iterator the entire dataset does not need to be loaded into memory\n",
    "batch_size = 16\n",
    "\n",
    "train_data = TensorDataset(train_inputs, train_masks, train_labels)\n",
    "train_sampler = RandomSampler(train_data)\n",
    "train_dataloader = DataLoader(train_data, sampler=train_sampler, batch_size=batch_size)\n",
    "\n",
    "val_data = TensorDataset(val_inputs, val_masks, val_labels)\n",
    "val_sampler = SequentialSampler(val_data)\n",
    "val_dataloader = DataLoader(val_data, sampler=val_sampler, batch_size=batch_size)\n"
   ]
  },
  {
   "cell_type": "markdown",
   "metadata": {
    "colab_type": "text",
    "id": "r5iV49Jfux_R"
   },
   "source": [
    "## train"
   ]
  },
  {
   "cell_type": "code",
   "execution_count": 0,
   "metadata": {
    "colab": {},
    "colab_type": "code",
    "id": "MpxCbWHIuwd0"
   },
   "outputs": [],
   "source": [
    "param_optimizer = list(model.named_parameters())\n",
    "no_decay = ['bias', 'gamma', 'beta']\n",
    "optimizer_grouped_parameters = [\n",
    "    {'params': [p for n, p in param_optimizer if not any(nd in n for nd in no_decay)],\n",
    "     'weight_decay_rate': 0.01},\n",
    "    {'params': [p for n, p in param_optimizer if any(nd in n for nd in no_decay)],\n",
    "     'weight_decay_rate': 0.0}\n",
    "]"
   ]
  },
  {
   "cell_type": "code",
   "execution_count": 0,
   "metadata": {
    "colab": {},
    "colab_type": "code",
    "id": "-MeMvv7ipaXQ"
   },
   "outputs": [],
   "source": [
    "# This variable contains all of the hyperparemeter information our training loop needs\n",
    "lr = 5e-5\n",
    "max_grad_norm = 1.0\n",
    "num_total_steps = 1000\n",
    "num_warmup_steps = 100\n",
    "warmup_proportion = float(num_warmup_steps) / float(num_total_steps)  # 0.1\n",
    "\n",
    "optimizer = AdamW(model.parameters(), lr=lr, correct_bias=False, weight_decay=2e-6)\n",
    "scheduler = WarmupLinearSchedule(optimizer, warmup_steps=num_warmup_steps, t_total=num_total_steps)  # PyTorch scheduler"
   ]
  },
  {
   "cell_type": "code",
   "execution_count": 0,
   "metadata": {
    "colab": {},
    "colab_type": "code",
    "id": "OXHU5xS2vXmR"
   },
   "outputs": [],
   "source": [
    "# Function to calculate the accuracy of our predictions vs labels\n",
    "def flat_accuracy(preds, labels):\n",
    "    pred_flat = np.argmax(preds, axis=1).flatten()\n",
    "    labels_flat = labels.flatten()\n",
    "    return np.sum(pred_flat == labels_flat) / len(labels_flat)"
   ]
  },
  {
   "cell_type": "code",
   "execution_count": 0,
   "metadata": {
    "colab": {
     "base_uri": "https://localhost:8080/",
     "height": 92
    },
    "colab_type": "code",
    "id": "4KhlosyJ-K9t",
    "outputId": "41678dc8-3b0f-4b34-d64a-43a313188700"
   },
   "outputs": [
    {
     "name": "stdout",
     "output_type": "stream",
     "text": [
      "Found GPU at: /device:GPU:0\n"
     ]
    },
    {
     "data": {
      "text/plain": [
       "'Tesla K80'"
      ]
     },
     "execution_count": 18,
     "metadata": {
      "tags": []
     },
     "output_type": "execute_result"
    }
   ],
   "source": [
    "import tensorflow as tf\n",
    "\n",
    "device_name = tf.test.gpu_device_name()\n",
    "if device_name != '/device:GPU:0':\n",
    "  raise SystemError('GPU device not found')\n",
    "print('Found GPU at: {}'.format(device_name))\n",
    "\n",
    "device = torch.device(\"cuda\" if torch.cuda.is_available() else \"cpu\")\n",
    "n_gpu = torch.cuda.device_count()\n",
    "torch.cuda.get_device_name(0)"
   ]
  },
  {
   "cell_type": "code",
   "execution_count": 0,
   "metadata": {
    "colab": {
     "base_uri": "https://localhost:8080/",
     "height": 952
    },
    "colab_type": "code",
    "id": "v70GvIdJv8rm",
    "outputId": "8033caf9-fabf-45ef-b45c-048299cb9e34"
   },
   "outputs": [
    {
     "name": "stderr",
     "output_type": "stream",
     "text": [
      "\r",
      "Epoch:   0%|          | 0/5 [00:00<?, ?it/s]"
     ]
    },
    {
     "name": "stdout",
     "output_type": "stream",
     "text": [
      "Train loss: 0.9570600986480713\n"
     ]
    },
    {
     "name": "stderr",
     "output_type": "stream",
     "text": [
      "/usr/local/lib/python3.6/dist-packages/ipykernel_launcher.py:120: UserWarning: Implicit dimension choice for softmax has been deprecated. Change the call to include dim=X as an argument.\n",
      "/usr/local/lib/python3.6/dist-packages/sklearn/metrics/classification.py:1437: UndefinedMetricWarning: F-score is ill-defined and being set to 0.0 in labels with no predicted samples.\n",
      "  'precision', 'predicted', average, warn_for)\n",
      "/usr/local/lib/python3.6/dist-packages/sklearn/metrics/classification.py:1437: UndefinedMetricWarning: Precision is ill-defined and being set to 0.0 in labels with no predicted samples.\n",
      "  'precision', 'predicted', average, warn_for)\n",
      "Epoch:  20%|██        | 1/5 [04:09<16:39, 249.93s/it]"
     ]
    },
    {
     "name": "stdout",
     "output_type": "stream",
     "text": [
      "Validation loss: 0.6626876592636108\n",
      "Validation Accuracy: 0.8077380952380953\n",
      "F1-Score: [0.         0.72222222 0.22222222 0.         0.88491049 0.\n",
      " 0.         0.82739726]\n",
      "Precision-Score: [0.         0.86666667 0.45454545 0.         0.8277512  0.\n",
      " 0.         0.75879397]\n",
      "Recall-Score: [0.         0.61904762 0.14705882 0.         0.95054945 0.\n",
      " 0.         0.90963855]\n",
      "Train loss: 0.4586624205112457\n"
     ]
    },
    {
     "name": "stderr",
     "output_type": "stream",
     "text": [
      "\r",
      "Epoch:  40%|████      | 2/5 [08:19<12:29, 249.94s/it]"
     ]
    },
    {
     "name": "stdout",
     "output_type": "stream",
     "text": [
      "Validation loss: 0.4637904763221741\n",
      "Validation Accuracy: 0.8593253968253968\n",
      "F1-Score: [0.         0.77862595 0.57142857 0.64285714 0.9255751  0.\n",
      " 0.25       0.88414634]\n",
      "Precision-Score: [0.         0.75       0.62068966 0.6        0.912      0.\n",
      " 1.         0.89506173]\n",
      "Recall-Score: [0.         0.80952381 0.52941176 0.69230769 0.93956044 0.\n",
      " 0.14285714 0.87349398]\n",
      "Train loss: 0.2531602382659912\n"
     ]
    },
    {
     "name": "stderr",
     "output_type": "stream",
     "text": [
      "\r",
      "Epoch:  60%|██████    | 3/5 [12:29<08:19, 249.96s/it]"
     ]
    },
    {
     "name": "stdout",
     "output_type": "stream",
     "text": [
      "Validation loss: 0.528947651386261\n",
      "Validation Accuracy: 0.873015873015873\n",
      "F1-Score: [0.         0.82481752 0.46153846 0.74074074 0.92628651 0.\n",
      " 0.5        0.90697674]\n",
      "Precision-Score: [0.         0.76351351 0.66666667 0.71428571 0.93802817 0.\n",
      " 0.6        0.87640449]\n",
      "Recall-Score: [0.         0.8968254  0.35294118 0.76923077 0.91483516 0.\n",
      " 0.42857143 0.93975904]\n",
      "Train loss: 0.13206258416175842\n"
     ]
    },
    {
     "name": "stderr",
     "output_type": "stream",
     "text": [
      "\r",
      "Epoch:  80%|████████  | 4/5 [16:39<04:09, 249.91s/it]"
     ]
    },
    {
     "name": "stdout",
     "output_type": "stream",
     "text": [
      "Validation loss: 0.5978612303733826\n",
      "Validation Accuracy: 0.8773809523809523\n",
      "F1-Score: [0.         0.84920635 0.58064516 0.72       0.93296089 0.\n",
      " 0.46153846 0.88333333]\n",
      "Precision-Score: [0.         0.84920635 0.64285714 0.75       0.94886364 0.\n",
      " 0.5        0.81958763]\n",
      "Recall-Score: [0.         0.84920635 0.52941176 0.69230769 0.91758242 0.\n",
      " 0.42857143 0.95783133]\n",
      "Train loss: 0.059000201523303986\n"
     ]
    },
    {
     "name": "stderr",
     "output_type": "stream",
     "text": [
      "\r",
      "Epoch: 100%|██████████| 5/5 [20:49<00:00, 249.75s/it]"
     ]
    },
    {
     "name": "stdout",
     "output_type": "stream",
     "text": [
      "Validation loss: 0.5374355912208557\n",
      "Validation Accuracy: 0.8898809523809523\n",
      "F1-Score: [0.         0.875      0.64864865 0.76923077 0.93108298 0.\n",
      " 0.52173913 0.92307692]\n",
      "Precision-Score: [0.         0.86153846 0.6        0.76923077 0.95389049 0.\n",
      " 0.375      0.90697674]\n",
      "Recall-Score: [0.         0.88888889 0.70588235 0.76923077 0.90934066 0.\n",
      " 0.85714286 0.93975904]\n",
      "train time: 1249.0737249851227\n"
     ]
    },
    {
     "name": "stderr",
     "output_type": "stream",
     "text": [
      "\n"
     ]
    }
   ],
   "source": [
    "import time\n",
    "start = time.time()\n",
    "\n",
    "val_loss_tt = []\n",
    "val_acc_tt = []\n",
    "train_loss_tt = []\n",
    "f1_score_avg=[]\n",
    "f1_score_weighted = []\n",
    "precision_score_tt=[]\n",
    "recall_score_tt=[]\n",
    "auc_score_rr=[]\n",
    "\n",
    "none = []\n",
    "disonly = []\n",
    "PREVENT = []\n",
    "TREAT_FOR_DIS = []\n",
    "TREAT_NO_FOR_DIS= []\n",
    "VAGUE = []\n",
    "SIDE_EFF = []\n",
    "TREATONLY = []\n",
    "\n",
    "\n",
    "CUDA_LAUNCH_BLOCKING=1 \n",
    "train_loss_set = []\n",
    "\n",
    "# Number of training epochs (authors recommend between 2 and 4)\n",
    "epochs = 5\n",
    "\n",
    "eval_every = 100\n",
    "\n",
    "# trange is a tqdm wrapper around the normal python range\n",
    "for _ in trange(epochs, desc=\"Epoch\"):\n",
    "  \n",
    "  \n",
    "  # Training\n",
    "  \n",
    "  # Set our model to training mode (as opposed to evaluation mode)\n",
    "  model.train()\n",
    "  \n",
    "  # Tracking variables\n",
    "  tr_loss = 0\n",
    "  nb_tr_examples, nb_tr_steps = 0, 0\n",
    "  \n",
    "  # Train the data for one epoch\n",
    "  for step, batch in enumerate(train_dataloader):\n",
    "    # Add batch to GPU\n",
    "    batch = tuple(t for t in batch)\n",
    "    # Unpack the inputs from our dataloader\n",
    "    b_input_ids, b_input_mask, b_labels = batch\n",
    "\n",
    "    b_labels = b_labels.unsqueeze(-1)\n",
    "    \n",
    "    \n",
    "    b_input_ids = b_input_ids.cuda()\n",
    "    b_input_mask = b_input_mask.cuda()\n",
    "    b_labels = b_labels.cuda()\n",
    "    \n",
    "    \n",
    "    # Clear out the gradients (by default they accumulate)\n",
    "    optimizer.zero_grad()\n",
    "    \n",
    "    # Forward pass\n",
    "\n",
    "    outputs = model(input_ids=b_input_ids, attention_mask=b_input_mask, labels=b_labels)\n",
    "  \n",
    "    #print(outputs)\n",
    "    loss, logits = outputs[:2]\n",
    "    train_loss_set.append(loss)  \n",
    "\n",
    "    # Backward pass\n",
    "    loss.backward()\n",
    "    # Update parameters and take a step using the computed gradient\n",
    "    torch.nn.utils.clip_grad_norm_(model.parameters(), max_grad_norm)  # Gradient clipping is not in AdamW anymore (so you can use amp without issue)\n",
    "    scheduler.step()\n",
    "    optimizer.step()\n",
    "    optimizer.zero_grad()\n",
    "    \n",
    "    \n",
    "    # Update tracking variables\n",
    "    tr_loss += loss\n",
    "    nb_tr_examples += b_input_ids.size(0)\n",
    "    nb_tr_steps += 1\n",
    "\n",
    "\n",
    "  print(\"Train loss: {}\".format(tr_loss/nb_tr_steps))\n",
    "  train_loss_tt.append(tr_loss/nb_tr_steps)\n",
    "\n",
    "  model.eval()\n",
    "  model.zero_grad()\n",
    "\n",
    "  # Tracking variables \n",
    "  eval_loss2, eval_accuracy2 = 0, 0\n",
    "  nb_eval_steps2, nb_eval_examples2 = 0, 0\n",
    "  predictions , true_labels = [], []\n",
    "\n",
    "  # Evaluate data for one epoch\n",
    "  for batch in val_dataloader:\n",
    "    \n",
    "    # Add batch to GPU\n",
    "    batch = tuple(t for t in batch)\n",
    "    \n",
    "    # Unpack the inputs from our dataloader\n",
    "    b_input_ids, b_input_mask, b_labels = batch\n",
    "    \n",
    "    b_input_ids = b_input_ids.cuda()\n",
    "    b_input_mask = b_input_mask.cuda()\n",
    "    b_labels = b_labels.cuda()\n",
    "    \n",
    "    # Telling the model not to compute or store gradients, saving memory and speeding up validation\n",
    "    with torch.no_grad():\n",
    "      # Forward pass, calculate logit predictions\n",
    "      ot = model(b_input_ids, token_type_ids=None, attention_mask=b_input_mask)\n",
    "      logits = ot[0]\n",
    "      outputs = model(b_input_ids, token_type_ids=None, attention_mask=b_input_mask, labels = b_labels.unsqueeze(-1))\n",
    "      loss = outputs[0]\n",
    "    \n",
    "    # Move logits and labels to CPu\n",
    "    \n",
    "    m = nn.Softmax()\n",
    "    pred = m(logits).to('cpu').detach().numpy()\n",
    "    label_ids = b_labels.to('cpu').numpy()\n",
    "    \n",
    "    predictions.extend([p for p in np.argmax(pred, axis=1)])\n",
    "    true_labels.append(label_ids)\n",
    "    \n",
    "    \n",
    "    tmp_eval_accuracy = flat_accuracy(pred, label_ids)\n",
    "    #print(tmp_eval_accuracy)\n",
    "    \n",
    "    eval_accuracy2 += tmp_eval_accuracy\n",
    "    nb_eval_steps2 += 1\n",
    "    eval_loss2 += loss\n",
    "\n",
    "\n",
    "  print(\"Validation loss: {}\".format(eval_loss2/nb_eval_steps2))\n",
    "  print(\"Validation Accuracy: {}\".format(eval_accuracy2/nb_eval_steps2))\n",
    "  pred_tags = [tags2vals[p] for p in predictions]\n",
    "  valid_tags = [tags2vals[l_i] for l in true_labels for l_i in l]\n",
    "  \n",
    "  print(\"F1-Score: {}\".format(f1_score(valid_tags, pred_tags, average=None, labels=tags2vals)))\n",
    "  print(\"Precision-Score: {}\".format(precision_score( valid_tags, pred_tags, average=None, labels=tags2vals)))\n",
    "  print(\"Recall-Score: {}\".format(recall_score( valid_tags, pred_tags, average=None, labels=tags2vals)))\n",
    "  #print(\"AUC-Score: {}\".format(roc_auc_score( valid_tags, pred_tags, average=None)))#, labels=tags2vals)))\n",
    "\n",
    "  f1 = f1_score(valid_tags, pred_tags, average=None, labels=tags2vals)\n",
    "  precision = precision_score(valid_tags, pred_tags, average='macro', labels=tags2vals)\n",
    "  recall = recall_score(valid_tags, pred_tags, average='macro', labels=tags2vals)\n",
    "  #acu = roc_auc_score(valid_tags, pred_tags, average='macro')#, labels=tags2vals)\n",
    "\n",
    "\n",
    "  val_loss_tt.append(eval_loss2/nb_eval_steps2)\n",
    "  val_acc_tt.append(eval_accuracy2/nb_eval_steps2)\n",
    "  f1_score_avg.append(sum(f1)/len(f1))\n",
    "  precision_score_tt.append(precision)\n",
    "  recall_score_tt.append(recall)\n",
    "  #auc_score_tt.append(auc)\n",
    "\n",
    "  none.append(f1[0])\n",
    "  disonly.append(f1[1])\n",
    "  PREVENT.append(f1[2])\n",
    "  TREAT_FOR_DIS.append(f1[3])\n",
    "  TREAT_NO_FOR_DIS.append(f1[4])\n",
    "  VAGUE.append(f1[5])\n",
    "  SIDE_EFF.append(f1[6])\n",
    "  TREATONLY.append(f1[7])\n",
    "\n",
    "end = time.time()\n",
    "print('train time:', end - start)"
   ]
  },
  {
   "cell_type": "code",
   "execution_count": 0,
   "metadata": {
    "colab": {
     "base_uri": "https://localhost:8080/",
     "height": 199
    },
    "colab_type": "code",
    "id": "XgK0m20GAlIR",
    "outputId": "b4ed64f0-3345-47f5-f29f-ad50d4efafe9"
   },
   "outputs": [
    {
     "data": {
      "text/plain": [
       "['TREAT_NO_FOR_DIS',\n",
       " 'DISONLY',\n",
       " 'TREATONLY',\n",
       " 'PREVENT',\n",
       " 'NONE',\n",
       " 'SIDE_EFF',\n",
       " 'VAGUE',\n",
       " 'TREAT_FOR_DIS']"
      ]
     },
     "execution_count": 20,
     "metadata": {
      "tags": []
     },
     "output_type": "execute_result"
    }
   ],
   "source": [
    "tags2vals"
   ]
  },
  {
   "cell_type": "code",
   "execution_count": 0,
   "metadata": {
    "colab": {
     "base_uri": "https://localhost:8080/",
     "height": 279
    },
    "colab_type": "code",
    "id": "Ms6ANdOIVC11",
    "outputId": "0b581bc0-1564-48e6-de99-a0d0a8385248"
   },
   "outputs": [
    {
     "ename": "NameError",
     "evalue": "ignored",
     "output_type": "error",
     "traceback": [
      "\u001b[0;31m---------------------------------------------------------------------------\u001b[0m",
      "\u001b[0;31mNameError\u001b[0m                                 Traceback (most recent call last)",
      "\u001b[0;32m<ipython-input-1-160392ac029f>\u001b[0m in \u001b[0;36m<module>\u001b[0;34m()\u001b[0m\n\u001b[1;32m      9\u001b[0m \u001b[0mpylab\u001b[0m\u001b[0;34m.\u001b[0m\u001b[0mrcParams\u001b[0m\u001b[0;34m.\u001b[0m\u001b[0mupdate\u001b[0m\u001b[0;34m(\u001b[0m\u001b[0mparams\u001b[0m\u001b[0;34m)\u001b[0m\u001b[0;34m\u001b[0m\u001b[0;34m\u001b[0m\u001b[0m\n\u001b[1;32m     10\u001b[0m \u001b[0;34m\u001b[0m\u001b[0m\n\u001b[0;32m---> 11\u001b[0;31m \u001b[0mplt\u001b[0m\u001b[0;34m.\u001b[0m\u001b[0mplot\u001b[0m\u001b[0;34m(\u001b[0m\u001b[0mrange\u001b[0m\u001b[0;34m(\u001b[0m\u001b[0mepochs\u001b[0m\u001b[0;34m)\u001b[0m\u001b[0;34m,\u001b[0m \u001b[0mval_loss_tt\u001b[0m\u001b[0;34m,\u001b[0m \u001b[0mlabel\u001b[0m\u001b[0;34m=\u001b[0m\u001b[0;34m'val_loss'\u001b[0m\u001b[0;34m)\u001b[0m\u001b[0;34m\u001b[0m\u001b[0;34m\u001b[0m\u001b[0m\n\u001b[0m\u001b[1;32m     12\u001b[0m \u001b[0mplt\u001b[0m\u001b[0;34m.\u001b[0m\u001b[0mplot\u001b[0m\u001b[0;34m(\u001b[0m\u001b[0mrange\u001b[0m\u001b[0;34m(\u001b[0m\u001b[0mepochs\u001b[0m\u001b[0;34m)\u001b[0m\u001b[0;34m,\u001b[0m \u001b[0mval_acc_tt\u001b[0m\u001b[0;34m,\u001b[0m \u001b[0mlabel\u001b[0m\u001b[0;34m=\u001b[0m\u001b[0;34m'val_acc'\u001b[0m\u001b[0;34m)\u001b[0m\u001b[0;34m\u001b[0m\u001b[0;34m\u001b[0m\u001b[0m\n\u001b[1;32m     13\u001b[0m \u001b[0mplt\u001b[0m\u001b[0;34m.\u001b[0m\u001b[0mplot\u001b[0m\u001b[0;34m(\u001b[0m\u001b[0mrange\u001b[0m\u001b[0;34m(\u001b[0m\u001b[0mepochs\u001b[0m\u001b[0;34m)\u001b[0m\u001b[0;34m,\u001b[0m \u001b[0mtrain_loss_tt\u001b[0m\u001b[0;34m,\u001b[0m \u001b[0mlabel\u001b[0m\u001b[0;34m=\u001b[0m\u001b[0;34m'train_loss'\u001b[0m\u001b[0;34m)\u001b[0m\u001b[0;34m\u001b[0m\u001b[0;34m\u001b[0m\u001b[0m\n",
      "\u001b[0;31mNameError\u001b[0m: name 'epochs' is not defined"
     ]
    }
   ],
   "source": [
    "import matplotlib.pyplot as plt\n",
    "import matplotlib.pylab as pylab\n",
    "params = {'legend.fontsize': 'x-large',\n",
    "          'figure.figsize': (8, 6),\n",
    "         'axes.labelsize': 'x-large',\n",
    "         'axes.titlesize':'x-large',\n",
    "         'xtick.labelsize':'x-large',\n",
    "         'ytick.labelsize':'x-large'}\n",
    "pylab.rcParams.update(params)\n",
    "\n",
    "plt.plot(range(epochs), val_loss_tt, label='val_loss')\n",
    "plt.plot(range(epochs), val_acc_tt, label='val_acc')\n",
    "plt.plot(range(epochs), train_loss_tt, label='train_loss')\n",
    "plt.plot(range(epochs), f1_score_avg, label='f1_all')\n",
    "plt.legend()\n",
    "plt.xlabel('epochs', fontsize=18)\n",
    "#plt.savefig('/content/drive/My Drive/berkeley/ft-BERT1.png', dpi=500)\n"
   ]
  },
  {
   "cell_type": "code",
   "execution_count": 0,
   "metadata": {
    "colab": {
     "base_uri": "https://localhost:8080/",
     "height": 444
    },
    "colab_type": "code",
    "id": "7ZmkEtxcuQzT",
    "outputId": "d8bd4fc6-7503-4887-bcb4-f7ae80b242a8"
   },
   "outputs": [
    {
     "data": {
      "image/png": "[encoded data removed]",
      "text/plain": [
       "<Figure size 576x432 with 1 Axes>"
      ]
     },
     "metadata": {
      "tags": []
     },
     "output_type": "display_data"
    }
   ],
   "source": [
    "import matplotlib.pylab as pylab\n",
    "params = {'legend.fontsize': 'medium',\n",
    "          'figure.figsize': (8, 6),\n",
    "         'axes.labelsize': 'x-large',\n",
    "         'axes.titlesize':'x-large',\n",
    "         'xtick.labelsize':'x-large',\n",
    "         'ytick.labelsize':'x-large'}\n",
    "pylab.rcParams.update(params)\n",
    "\n",
    "plt.plot(range(epochs), none, label='%s'%tags2vals[0])\n",
    "plt.plot(range(epochs), disonly, label='%s'%tags2vals[1])\n",
    "plt.plot(range(epochs), PREVENT, label='%s'%tags2vals[2])\n",
    "plt.plot(range(epochs), TREAT_FOR_DIS, label='%s'%tags2vals[3])\n",
    "plt.plot(range(epochs), TREAT_NO_FOR_DIS, label='%s'%tags2vals[4])\n",
    "plt.plot(range(epochs), VAGUE, label='%s'%tags2vals[5])\n",
    "plt.plot(range(epochs), SIDE_EFF, label='%s'%tags2vals[6])\n",
    "plt.plot(range(epochs), TREATONLY, label='%s'%tags2vals[7])\n",
    "plt.legend(loc = 'lower right')\n",
    "plt.xlabel('epoches',fontsize=18)\n",
    "plt.ylabel('avg f1 score ', fontsize=18)\n",
    "\n",
    "plt.savefig('/content/drive/My Drive/ft-BERT.png', dp1=500)"
   ]
  },
  {
   "cell_type": "code",
   "execution_count": 0,
   "metadata": {
    "colab": {
     "base_uri": "https://localhost:8080/",
     "height": 76
    },
    "colab_type": "code",
    "id": "u9GrRY_Qu-hL",
    "outputId": "cf53bf07-cd65-4e16-ad18-74829217eecb"
   },
   "outputs": [
    {
     "data": {
      "text/plain": [
       "0.5835973066383771"
      ]
     },
     "execution_count": 28,
     "metadata": {
      "tags": []
     },
     "output_type": "execute_result"
    }
   ],
   "source": [
    "f1_score_avg[-1]"
   ]
  },
  {
   "cell_type": "code",
   "execution_count": 0,
   "metadata": {
    "colab": {
     "base_uri": "https://localhost:8080/",
     "height": 76
    },
    "colab_type": "code",
    "id": "H5QtphJ2n1Iv",
    "outputId": "76d7c10c-78e2-4b08-ed8d-385c484ce56c"
   },
   "outputs": [
    {
     "data": {
      "text/plain": [
       "tensor(0.0590, device='cuda:0', grad_fn=<DivBackward0>)"
      ]
     },
     "execution_count": 29,
     "metadata": {
      "tags": []
     },
     "output_type": "execute_result"
    }
   ],
   "source": [
    "train_loss_tt[-1]"
   ]
  },
  {
   "cell_type": "code",
   "execution_count": 0,
   "metadata": {
    "colab": {
     "base_uri": "https://localhost:8080/",
     "height": 563
    },
    "colab_type": "code",
    "id": "2GDAhqEOV3qf",
    "outputId": "9f383f01-0bc8-4ce7-df65-53f9933151df"
   },
   "outputs": [
    {
     "data": {
      "image/png": "[encoded data removed]",
      "text/plain": [
       "<Figure size 1080x576 with 1 Axes>"
      ]
     },
     "metadata": {
      "tags": []
     },
     "output_type": "display_data"
    }
   ],
   "source": [
    "plt.figure(figsize=(15,8))\n",
    "plt.title(\"Training loss\")\n",
    "plt.xlabel(\"Batch\")\n",
    "plt.ylabel(\"Loss\")\n",
    "plt.plot(train_loss_set)\n",
    "plt.show()"
   ]
  },
  {
   "cell_type": "code",
   "execution_count": 0,
   "metadata": {
    "colab": {
     "base_uri": "https://localhost:8080/",
     "height": 128
    },
    "colab_type": "code",
    "id": "VfTvemKXyRtw",
    "outputId": "49c14369-8dc1-4834-a2ef-70b26eaa46cd"
   },
   "outputs": [
    {
     "name": "stdout",
     "output_type": "stream",
     "text": [
      "accuracy 0.8898809523809523\n",
      "f1 0.5835973066383771\n",
      "recall 0.6337805704611161\n",
      "precision 0.5583295581086027\n"
     ]
    }
   ],
   "source": [
    "n=-1\n",
    "print('accuracy', val_acc_tt[n])\n",
    "print('f1', f1_score_avg[n])\n",
    "print('recall', recall_score_tt[n])\n",
    "print('precision', precision_score_tt[n])"
   ]
  },
  {
   "cell_type": "code",
   "execution_count": 0,
   "metadata": {
    "colab": {},
    "colab_type": "code",
    "id": "_LIvD2iZrYjf"
   },
   "outputs": [],
   "source": []
  }
 ],
 "metadata": {
  "accelerator": "GPU",
  "colab": {
   "collapsed_sections": [],
   "machine_shape": "hm",
   "name": "BertSentence.ipynb",
   "provenance": [],
   "version": "0.3.2"
  },
  "kernelspec": {
   "display_name": "Python 3",
   "language": "python",
   "name": "python3"
  },
  "language_info": {
   "codemirror_mode": {
    "name": "ipython",
    "version": 3
   },
   "file_extension": ".py",
   "mimetype": "text/x-python",
   "name": "python",
   "nbconvert_exporter": "python",
   "pygments_lexer": "ipython3",
   "version": "3.7.3"
  }
 },
 "nbformat": 4,
 "nbformat_minor": 1
}
